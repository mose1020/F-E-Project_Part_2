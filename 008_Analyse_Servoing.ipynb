{
 "cells": [
  {
   "attachments": {},
   "cell_type": "markdown",
   "metadata": {},
   "source": [
    "# Import the necessary packages"
   ]
  },
  {
   "cell_type": "code",
   "execution_count": null,
   "metadata": {},
   "outputs": [],
   "source": [
    "import matplotlib.pyplot as plt\n",
    "import csv\n",
    "import numpy as np\n",
    "import re"
   ]
  },
  {
   "attachments": {},
   "cell_type": "markdown",
   "metadata": {},
   "source": [
    "# Imread the csv information"
   ]
  },
  {
   "cell_type": "code",
   "execution_count": null,
   "metadata": {},
   "outputs": [],
   "source": [
    "def read_csv_file(file_path):\n",
    "    servoing_informations = []\n",
    "    counter = 0\n",
    "    with open(file_path, 'r') as csv_file:\n",
    "        csv_reader = csv.reader(csv_file)\n",
    "        next(csv_reader)  # skip header\n",
    "\n",
    "        for row in csv_reader:\n",
    "            if counter == 0:\n",
    "                goal_informations = row\n",
    "            else:\n",
    "                servoing_informations.append(row)\n",
    "            counter += 1\n",
    "    return goal_informations, servoing_informations"
   ]
  },
  {
   "cell_type": "code",
   "execution_count": null,
   "metadata": {},
   "outputs": [],
   "source": [
    "goal_informations, servoing_informations= read_csv_file(\"/home/scco0002/catkin_ws/src/iaps_ur5e_sim/scripts/kovis_moduls/keypoints_servoing.csv\")"
   ]
  },
  {
   "attachments": {},
   "cell_type": "markdown",
   "metadata": {},
   "source": [
    "# Get the time values"
   ]
  },
  {
   "cell_type": "code",
   "execution_count": null,
   "metadata": {},
   "outputs": [],
   "source": [
    "interference_neural_networks = [] # only nn\n",
    "time_for_keypoint_extraction = [] # keypoint extraction function\n",
    "time_for_servoing_loop = [] # hole servoing loop\n",
    "time_for_picture = [] # time for taking a picture\n",
    "\n",
    "for i in range(len(servoing_informations)):\n",
    "    time_for_servoing_loop.append(float(servoing_informations[i][2]))\n",
    "    interference_neural_networks.append(float(servoing_informations[i][3]))\n",
    "    time_for_keypoint_extraction.append(float(servoing_informations[i][4]))\n",
    "    time_for_picture.append(float(servoing_informations[i][6]))\n"
   ]
  },
  {
   "cell_type": "code",
   "execution_count": null,
   "metadata": {},
   "outputs": [],
   "source": [
    "# Generate random data for mean values (example)\n",
    "mean_interference_neural_networks = np.array(interference_neural_networks).mean()\n",
    "mean_time_for_keypoint_extraction = np.array(time_for_keypoint_extraction).mean()\n",
    "mean_time_for_servoing_loop = np.array(time_for_servoing_loop).mean()\n",
    "mean_time_for_picture = np.array(time_for_picture).mean()\n",
    "\n",
    "print(\"Mean Interference Neural Network: \", mean_interference_neural_networks)\n",
    "print(\"Mean Time for Interference + Keypoint Extraction: \", mean_time_for_keypoint_extraction)\n",
    "print(\"Mean Time for Servoing Loop: \", mean_time_for_servoing_loop)\n",
    "print(\"Mean Time for Taking a Picture: \", mean_time_for_picture)\n",
    "\n",
    "\n",
    "# Create the figure and subplots\n",
    "fig, (ax1, ax2) = plt.subplots(1, 2, figsize=(30, 10))\n",
    "\n",
    "# Plot the upper code on the left subplot (ax1)\n",
    "ax1.plot(interference_neural_networks, label=\"Interference Neural Network\")\n",
    "ax1.plot(time_for_keypoint_extraction, label=\"Time for Interference + Keypoint Extraction\")\n",
    "ax1.plot(time_for_servoing_loop, label=\"Time for Servoing Loop\")\n",
    "ax1.plot(time_for_picture, label=\"Time for Taking a Picture\")\n",
    "ax1.set_xlabel(\"Servoing Step\", fontsize=14)\n",
    "ax1.set_ylabel(\"Time in s\", fontsize=14)\n",
    "legend = ax1.legend(loc='lower center', bbox_to_anchor=(0.5, -0.3), ncol=2, fontsize=14)\n",
    "ax1.set_ylim(0, max(mean_interference_neural_networks, mean_time_for_keypoint_extraction, mean_time_for_servoing_loop)*1.4)\n",
    "ax1.title.set_text('Time Values while Servoing')\n",
    "ax1.title.set_fontsize(18)\n",
    "ax1.grid()\n",
    "\n",
    "# Plot the mean values on the right subplot (ax2)\n",
    "ax2.axhline(y=mean_interference_neural_networks, color=\"blue\",label=\"Mean Interference Neural Network\")\n",
    "ax2.axhline(y=mean_time_for_keypoint_extraction, color=\"orange\",label=\"Mean Time for Interference + Keypoint Extraction\")\n",
    "ax2.axhline(y=mean_time_for_servoing_loop, color=\"green\",label=\"Mean for Servoing Loop\")\n",
    "ax2.axhline(y=mean_time_for_picture, color=\"red\",label=\"Mean for Taking a Picture\")\n",
    "ax2.set_ylabel(\"Time in s\", fontsize=14)\n",
    "legend = ax2.legend(loc='lower center', bbox_to_anchor=(0.5, -0.3), ncol=2, fontsize=14)\n",
    "ax2.set_ylim(0, max(mean_interference_neural_networks, mean_time_for_keypoint_extraction, mean_time_for_servoing_loop)*1.4)\n",
    "ax2.title.set_text('Mean Time Values')\n",
    "ax2.title.set_fontsize(18)\n",
    "ax2.grid()\n",
    "\n",
    "# Display the plot\n",
    "plt.suptitle('Time Values while Servoing', fontsize=24)\n",
    "plt.show()"
   ]
  },
  {
   "attachments": {},
   "cell_type": "markdown",
   "metadata": {},
   "source": [
    "# Get the Progression of the Keypoints while Servoing"
   ]
  },
  {
   "cell_type": "code",
   "execution_count": null,
   "metadata": {},
   "outputs": [],
   "source": [
    "goal_featurepoints = goal_informations[0]\n",
    "goal_featurepoints = eval(goal_featurepoints)"
   ]
  },
  {
   "cell_type": "code",
   "execution_count": null,
   "metadata": {},
   "outputs": [],
   "source": [
    "# make a list with 64 lists in it\n",
    "pixel_error = []\n",
    "for i in range(len(goal_featurepoints)):\n",
    "    pixel_error.append([])"
   ]
  },
  {
   "cell_type": "code",
   "execution_count": null,
   "metadata": {},
   "outputs": [],
   "source": [
    "for row in servoing_informations:\n",
    "    featurepoints = row[0]\n",
    "    featurepoints = eval(featurepoints)\n",
    "\n",
    "    for i in range(len(featurepoints)):\n",
    "        pixel_error_x = goal_featurepoints[i][0]-featurepoints[i][0]\n",
    "        pixel_error_y = goal_featurepoints[i][1]-featurepoints[i][1]\n",
    "        pixel_error[i].append([pixel_error_x, pixel_error_y])"
   ]
  },
  {
   "cell_type": "code",
   "execution_count": null,
   "metadata": {},
   "outputs": [],
   "source": [
    "keypoint_number = 1 # starts with 0\n",
    "\n",
    "plt.plot(pixel_error[keypoint_number])\n",
    "plt.xlabel('Servoing Step')\n",
    "plt.ylabel('Pixel Error')\n",
    "plt.title('Pixel Error of Keypoint ' + str(keypoint_number))\n",
    "plt.legend(['x-error of Keypoint '+str(keypoint_number), 'y-error of the Keypoint '+str(keypoint_number)], loc='lower center', bbox_to_anchor=(0.5, -0.3), ncol=2)\n",
    "plt.grid()\n",
    "plt.show()\n",
    "\n"
   ]
  },
  {
   "cell_type": "code",
   "execution_count": null,
   "metadata": {},
   "outputs": [],
   "source": [
    "num_keypoints = len(goal_featurepoints)\n",
    "\n",
    "plt.figure(figsize=(10, 6))  # Optional: Set the size of the figure\n",
    "\n",
    "for keypoint_number in range(num_keypoints):  # Assuming num_keypoints is the total number of keypoints\n",
    "    plt.plot(pixel_error[keypoint_number])\n",
    "\n",
    "plt.xlabel('Iterationes')\n",
    "plt.ylabel('Pixel Error')\n",
    "plt.title('Pixel Error of All Keypoints')\n",
    "\n",
    "# Generate labels for the legend\n",
    "legend_labels = ['Keypoint {}'.format(keypoint_number) for keypoint_number in range(num_keypoints)]\n",
    "\n",
    "#plt.legend(legend_labels, loc='lower center', bbox_to_anchor=(0.5, -0.3), ncol=2)\n",
    "plt.grid()\n",
    "plt.show()\n"
   ]
  },
  {
   "attachments": {},
   "cell_type": "markdown",
   "metadata": {},
   "source": [
    "# Plot the Velocity of the Endeffector while Servoing"
   ]
  },
  {
   "cell_type": "code",
   "execution_count": null,
   "metadata": {},
   "outputs": [],
   "source": [
    "velocity = [] # hole servoing loop\n",
    "\n",
    "for i in range(len(servoing_informations)):\n",
    "    string = servoing_informations[i][5]\n",
    "    clean_string = re.sub(r'[^\\d.eE+-]+', ' ', string)\n",
    "    values = re.findall(r\"[-+]?\\d+(?:\\.\\d+)?(?:[eE][-+]?\\d+)?\", clean_string)\n",
    "    float_values = [float(value) for value in values]\n",
    "    velocity.append(float_values)\n",
    "\n",
    "velocity = list(zip(*velocity))"
   ]
  },
  {
   "cell_type": "code",
   "execution_count": null,
   "metadata": {},
   "outputs": [],
   "source": [
    "fig, (ax1, ax2) = plt.subplots(1, 2, figsize=(30, 10))\n",
    "\n",
    "ax1.plot(velocity[0])\n",
    "ax1.set_title(\"Velocity in x-direction\")\n",
    "ax1.set_xlabel(\"Servoing Step\", fontsize=16)\n",
    "ax1.set_ylabel(\"Velocity in m/s\", fontsize=16)\n",
    "\n",
    "\n",
    "ax2.plot(velocity[1])\n",
    "ax2.set_title(\"Velocity in y-direction\")\n",
    "ax2.set_xlabel(\"Servoing Step\", fontsize=16)\n",
    "ax2.set_ylabel(\"Velocity in m/s\", fontsize=16)\n",
    "\n",
    "plt.suptitle('Twist while Servoing', fontsize=24)\n",
    "plt.show()"
   ]
  },
  {
   "cell_type": "code",
   "execution_count": null,
   "metadata": {},
   "outputs": [],
   "source": [
    "import numpy as np\n",
    "import matplotlib.pyplot as plt\n",
    "\n",
    "fig, (ax1, ax2) = plt.subplots(2, 2, figsize=(30, 20))\n",
    "ax1[0].plot(velocity[0])\n",
    "ax1[0].set_title(\"Velocity in x-direction\")\n",
    "ax1[0].set_xlabel(\"Servoing Step\")\n",
    "ax1[0].set_ylabel(\"Velocity in m/s\")\n",
    "ax1[0].legend()\n",
    "ax1[0].grid()  \n",
    "\n",
    "# Plot 2: Velocity in y-direction\n",
    "ax1[1].plot(velocity[1])\n",
    "ax1[1].set_title(\"Velocity in y-direction\")\n",
    "ax1[1].set_xlabel(\"Servoing Step\")\n",
    "ax1[1].set_ylabel(\"Velocity in m/s\")\n",
    "ax1[1].legend()\n",
    "ax1[1].grid()\n",
    "\n",
    "# Plot 3: Polynomial interpolation for Velocity in x-direction\n",
    "x = np.arange(len(velocity[0]))\n",
    "fit_coeffs_x = np.polyfit(x, velocity[0], deg=3)  # Adjust degree as needed\n",
    "fit_x = np.polyval(fit_coeffs_x, x)\n",
    "ax2[0].plot(x, velocity[0], label=\"Data\")\n",
    "ax2[0].plot(x, fit_x, label=\"Polynomial Fit\")\n",
    "ax2[0].set_title(\"Polynomial Interpolation for Velocity in x-direction\")\n",
    "ax2[0].set_xlabel(\"Servoing Step\")\n",
    "ax2[0].set_ylabel(\"Velocity in m/s\")\n",
    "ax2[0].legend()\n",
    "ax2[0].grid()\n",
    "\n",
    "# Plot 4: Polynomial interpolation for Velocity in y-direction\n",
    "fit_coeffs_y = np.polyfit(x, velocity[1], deg=3)  # Adjust degree as needed\n",
    "fit_y = np.polyval(fit_coeffs_y, x)\n",
    "ax2[1].plot(x, velocity[1], label=\"Data\")\n",
    "ax2[1].plot(x, fit_y, label=\"Polynomial Fit\")\n",
    "ax2[1].set_title(\"Polynomial Interpolation for Velocity in y-direction\")\n",
    "ax2[1].set_xlabel(\"Servoing Step\")\n",
    "ax2[1].set_ylabel(\"Velocity in m/s\")\n",
    "ax2[1].legend()\n",
    "ax2[1].grid()\n",
    "\n",
    "plt.suptitle('Twist while Servoing', fontsize=24)\n",
    "plt.tight_layout()\n",
    "plt.show()\n",
    "\n"
   ]
  },
  {
   "cell_type": "markdown",
   "metadata": {},
   "source": [
    "# Linarty of Key Points over time\n"
   ]
  },
  {
   "cell_type": "code",
   "execution_count": null,
   "metadata": {},
   "outputs": [],
   "source": [
    "# We want to analyse the servoing informations[6]\n",
    "lin_factor = []\n",
    "for i in range(len(servoing_informations)):\n",
    "    lin_factor.append(servoing_informations[i][7])\n",
    "\n",
    "# Plot the linear factor\n",
    "plt.figure(figsize=(15, 5))\n",
    "plt.plot(lin_factor)\n",
    "plt.title('Linear factor')\n",
    "plt.xlabel('Iteration')\n",
    "plt.ylabel('Linear factor')\n",
    "plt.show()\n",
    "    "
   ]
  },
  {
   "cell_type": "markdown",
   "metadata": {},
   "source": [
    "# Zielbild und Enpose Visueller Vergleich"
   ]
  },
  {
   "cell_type": "code",
   "execution_count": null,
   "metadata": {},
   "outputs": [],
   "source": [
    "zielbild = cv2.imread('/home/scco0002/catkin_ws/src/iaps_ur5e_sim/scripts/kovis_moduls/img/goal_pic/goal_picture.png')\n",
    "print(goal_featurepoints[1])"
   ]
  },
  {
   "cell_type": "code",
   "execution_count": null,
   "metadata": {},
   "outputs": [],
   "source": [
    "import cv2\n",
    "import numpy as np\n",
    "\n",
    "# Das Bild einlesen\n",
    "zielbild = cv2.imread('/home/scco0002/catkin_ws/src/iaps_ur5e_sim/scripts/kovis_moduls/img/goal_pic/goal_picture.png')\n",
    "\n",
    "# Über jeden Punkt iterieren\n",
    "for point in goal_featurepoints:\n",
    "    # Den Punkt auf das Bild zeichnen\n",
    "    zielbild = cv2.circle(zielbild, tuple(point), radius=0.2, color=(0,0,255), thickness=-1)\n",
    "\n",
    "# Das bearbeitete Bild anzeigen\n",
    "cv2.imshow('Zielbild', zielbild)\n",
    "cv2.waitKey(0)\n",
    "cv2.destroyAllWindows()"
   ]
  },
  {
   "attachments": {},
   "cell_type": "markdown",
   "metadata": {},
   "source": [
    "# "
   ]
  }
 ],
 "metadata": {
  "kernelspec": {
   "display_name": "Python 3",
   "language": "python",
   "name": "python3"
  },
  "language_info": {
   "codemirror_mode": {
    "name": "ipython",
    "version": 3
   },
   "file_extension": ".py",
   "mimetype": "text/x-python",
   "name": "python",
   "nbconvert_exporter": "python",
   "pygments_lexer": "ipython3",
   "version": "3.8.10"
  }
 },
 "nbformat": 4,
 "nbformat_minor": 2
}

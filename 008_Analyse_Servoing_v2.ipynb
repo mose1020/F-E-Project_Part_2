{
 "cells": [
  {
   "attachments": {},
   "cell_type": "markdown",
   "metadata": {},
   "source": [
    "# Import the necessary packages"
   ]
  },
  {
   "cell_type": "code",
   "execution_count": null,
   "metadata": {},
   "outputs": [],
   "source": [
    "import matplotlib.pyplot as plt\n",
    "import csv\n",
    "import numpy as np\n",
    "import re\n",
    "from scipy.spatial.transform import Rotation as R"
   ]
  },
  {
   "attachments": {},
   "cell_type": "markdown",
   "metadata": {},
   "source": [
    "# Imread the csv information"
   ]
  },
  {
   "cell_type": "code",
   "execution_count": null,
   "metadata": {},
   "outputs": [],
   "source": [
    "def read_csv_file(file_path):\n",
    "    servoing_informations = []\n",
    "    counter = 0\n",
    "    with open(file_path, 'r') as csv_file:\n",
    "        csv_reader = csv.reader(csv_file)\n",
    "        next(csv_reader)  # skip header\n",
    "\n",
    "        for row in csv_reader:\n",
    "            if counter == 0:\n",
    "                goal_informations = row\n",
    "            else:\n",
    "                servoing_informations.append(row)\n",
    "            counter += 1\n",
    "    return goal_informations, servoing_informations"
   ]
  },
  {
   "cell_type": "code",
   "execution_count": null,
   "metadata": {},
   "outputs": [],
   "source": [
    "goal_informations, servoing_informations= read_csv_file(\"/home/scco0002/catkin_ws/src/iaps_ur5e_sim/scripts/kovis_moduls/keypoints_servoing.csv\")\n",
    "#goal_informations, servoing_informations= read_csv_file(\"/home/scco0002/catkin_ws/src/iaps_ur5e_sim/scripts/kovis_moduls/keypoints_servoing_hough.csv\")\n",
    "#goal_informations, servoing_informations= read_csv_file(\"/home/scco0002/catkin_ws/src/iaps_ur5e_sim/scripts/kovis_moduls/keypoints_servoing_constantin_uber_Stecker.csv\")\n",
    "#goal_informations, servoing_informations= read_csv_file(\"/home/scco0002/catkin_ws/src/iaps_ur5e_sim/scripts/kovis_moduls/keypoints_servoing_constantin_5mm_v2.csv\")"
   ]
  },
  {
   "attachments": {},
   "cell_type": "markdown",
   "metadata": {},
   "source": [
    "# Get the time values"
   ]
  },
  {
   "cell_type": "code",
   "execution_count": null,
   "metadata": {},
   "outputs": [],
   "source": [
    "interference_neural_networks = [] # only nn\n",
    "time_for_keypoint_extraction = [] # keypoint extraction function\n",
    "time_for_servoing_loop = [] # hole servoing loop\n",
    "time_for_picture = [] # time for taking a picture\n",
    "\n",
    "for i in range(len(servoing_informations)):\n",
    "    time_for_servoing_loop.append(float(servoing_informations[i][2]))\n",
    "    interference_neural_networks.append(float(servoing_informations[i][3]))\n",
    "    time_for_keypoint_extraction.append(float(servoing_informations[i][4]))\n",
    "    time_for_picture.append(float(servoing_informations[i][6]))\n"
   ]
  },
  {
   "cell_type": "code",
   "execution_count": null,
   "metadata": {},
   "outputs": [],
   "source": [
    "# Generate random data for mean values (example)\n",
    "mean_interference_neural_networks = np.array(interference_neural_networks).mean()\n",
    "mean_time_for_keypoint_extraction = np.array(time_for_keypoint_extraction).mean()\n",
    "mean_time_for_servoing_loop = np.array(time_for_servoing_loop).mean()\n",
    "mean_time_for_picture = np.array(time_for_picture).mean()\n",
    "\n",
    "print(\"Mean Interference Neural Network: \", mean_interference_neural_networks)\n",
    "print(\"Mean Time for Interference + Keypoint Extraction: \", mean_time_for_keypoint_extraction)\n",
    "print(\"Mean Time for Servoing Loop: \", mean_time_for_servoing_loop)\n",
    "print(\"Mean Time for Taking a Picture: \", mean_time_for_picture)\n",
    "\n",
    "\n",
    "# Create the figure and subplots\n",
    "fig, (ax1, ax2) = plt.subplots(1, 2, figsize=(30, 10))\n",
    "\n",
    "# Plot the upper code on the left subplot (ax1)\n",
    "ax1.plot(interference_neural_networks, label=\"Interference Neural Network\")\n",
    "ax1.plot(time_for_keypoint_extraction, label=\"Time for Interference + Keypoint Extraction\")\n",
    "ax1.plot(time_for_servoing_loop, label=\"Time for Servoing Loop\")\n",
    "ax1.plot(time_for_picture, label=\"Time for Taking a Picture\")\n",
    "ax1.set_xlabel(\"Servoing Step\", fontsize=14)\n",
    "ax1.set_ylabel(\"Time in s\", fontsize=14)\n",
    "legend = ax1.legend(loc='lower center', bbox_to_anchor=(0.5, -0.3), ncol=2, fontsize=14)\n",
    "ax1.set_ylim(0, max(mean_interference_neural_networks, mean_time_for_keypoint_extraction, mean_time_for_servoing_loop)*1.4)\n",
    "ax1.title.set_text('Time Values while Servoing')\n",
    "ax1.title.set_fontsize(18)\n",
    "ax1.grid()\n",
    "\n",
    "# Plot the mean values on the right subplot (ax2)\n",
    "ax2.axhline(y=mean_interference_neural_networks, color=\"blue\",label=\"Mean Interference Neural Network\")\n",
    "ax2.axhline(y=mean_time_for_keypoint_extraction, color=\"orange\",label=\"Mean Time for Interference + Keypoint Extraction\")\n",
    "ax2.axhline(y=mean_time_for_servoing_loop, color=\"green\",label=\"Mean for Servoing Loop\")\n",
    "ax2.axhline(y=mean_time_for_picture, color=\"red\",label=\"Mean for Taking a Picture\")\n",
    "ax2.set_ylabel(\"Time in s\", fontsize=14)\n",
    "legend = ax2.legend(loc='lower center', bbox_to_anchor=(0.5, -0.3), ncol=2, fontsize=14)\n",
    "ax2.set_ylim(0, max(mean_interference_neural_networks, mean_time_for_keypoint_extraction, mean_time_for_servoing_loop)*1.4)\n",
    "ax2.title.set_text('Mean Time Values')\n",
    "ax2.title.set_fontsize(18)\n",
    "ax2.grid()\n",
    "\n",
    "# Display the plot\n",
    "plt.suptitle('Time Values while Servoing', fontsize=24)\n",
    "plt.show()"
   ]
  },
  {
   "attachments": {},
   "cell_type": "markdown",
   "metadata": {},
   "source": [
    "# Get the Progression of the Keypoints while Servoing"
   ]
  },
  {
   "cell_type": "code",
   "execution_count": null,
   "metadata": {},
   "outputs": [],
   "source": [
    "goal_featurepoints = goal_informations[0]\n",
    "goal_featurepoints = eval(goal_featurepoints)"
   ]
  },
  {
   "cell_type": "code",
   "execution_count": null,
   "metadata": {},
   "outputs": [],
   "source": [
    "# make a list with 64 lists in it\n",
    "pixel_error = []\n",
    "for i in range(len(goal_featurepoints)):\n",
    "    pixel_error.append([])"
   ]
  },
  {
   "cell_type": "code",
   "execution_count": null,
   "metadata": {},
   "outputs": [],
   "source": [
    "for row in servoing_informations:\n",
    "    featurepoints = row[0]\n",
    "    featurepoints = eval(featurepoints)\n",
    "\n",
    "    for i in range(len(featurepoints)):\n",
    "        pixel_error_x = goal_featurepoints[i][0]-featurepoints[i][0]\n",
    "        pixel_error_y = goal_featurepoints[i][1]-featurepoints[i][1]\n",
    "        pixel_error[i].append([pixel_error_x, pixel_error_y])"
   ]
  },
  {
   "cell_type": "code",
   "execution_count": null,
   "metadata": {},
   "outputs": [],
   "source": [
    "keypoint_number = 1 # starts with 0\n",
    "\n",
    "plt.plot(pixel_error[keypoint_number])\n",
    "plt.xlabel('Servoing Step')\n",
    "plt.ylabel('Pixel Error')\n",
    "plt.title('Pixel Error of Keypoint ' + str(keypoint_number))\n",
    "plt.legend(['x-error of Keypoint '+str(keypoint_number), 'y-error of the Keypoint '+str(keypoint_number)], loc='lower center', bbox_to_anchor=(0.5, -0.3), ncol=2)\n",
    "plt.grid()\n",
    "plt.show()\n",
    "\n"
   ]
  },
  {
   "cell_type": "code",
   "execution_count": null,
   "metadata": {},
   "outputs": [],
   "source": [
    "num_keypoints = len(goal_featurepoints)\n",
    "\n",
    "plt.figure(figsize=(10, 6))  # Optional: Set the size of the figure\n",
    "\n",
    "for keypoint_number in range(num_keypoints):  # Assuming num_keypoints is the total number of keypoints\n",
    "    plt.plot(pixel_error[keypoint_number])\n",
    "\n",
    "plt.xlabel('Iterationes')\n",
    "plt.ylabel('Pixel Error')\n",
    "plt.title('Pixel Error of All Keypoints')\n",
    "\n",
    "# Generate labels for the legend\n",
    "legend_labels = ['Keypoint {}'.format(keypoint_number) for keypoint_number in range(num_keypoints)]\n",
    "\n",
    "#plt.legend(legend_labels, loc='lower center', bbox_to_anchor=(0.5, -0.3), ncol=2)\n",
    "plt.grid()\n",
    "plt.show()\n"
   ]
  },
  {
   "attachments": {},
   "cell_type": "markdown",
   "metadata": {},
   "source": [
    "# Plot the Velocity of the Endeffector while Servoing"
   ]
  },
  {
   "cell_type": "code",
   "execution_count": null,
   "metadata": {},
   "outputs": [],
   "source": [
    "velocity = [] # hole servoing loop\n",
    "\n",
    "for i in range(len(servoing_informations)):\n",
    "    string = servoing_informations[i][5]\n",
    "    clean_string = re.sub(r'[^\\d.eE+-]+', ' ', string)\n",
    "    values = re.findall(r\"[-+]?\\d+(?:\\.\\d+)?(?:[eE][-+]?\\d+)?\", clean_string)\n",
    "    float_values = [float(value) for value in values]\n",
    "    velocity.append(float_values)\n",
    "\n",
    "velocity = list(zip(*velocity))"
   ]
  },
  {
   "cell_type": "code",
   "execution_count": null,
   "metadata": {},
   "outputs": [],
   "source": [
    "fig, (ax1, ax2) = plt.subplots(1, 2, figsize=(30, 10))\n",
    "\n",
    "ax1.grid()\n",
    "ax1.plot(velocity[0])\n",
    "ax1.set_title(\"Velocity in x-direction\")\n",
    "ax1.set_xlabel(\"Servoing Step\", fontsize=16)\n",
    "ax1.set_ylabel(\"Velocity in m/s\", fontsize=16)\n",
    "\n",
    "ax2.grid()\n",
    "ax2.plot(velocity[1])\n",
    "ax2.set_title(\"Velocity in y-direction\")\n",
    "ax2.set_xlabel(\"Servoing Step\", fontsize=16)\n",
    "ax2.set_ylabel(\"Velocity in m/s\", fontsize=16)\n",
    "\n",
    "plt.suptitle('Twist while Servoing', fontsize=24)\n",
    "plt.show()"
   ]
  },
  {
   "cell_type": "code",
   "execution_count": null,
   "metadata": {},
   "outputs": [],
   "source": [
    "import numpy as np\n",
    "import matplotlib.pyplot as plt\n",
    "\n",
    "fig, (ax1, ax2) = plt.subplots(2, 2, figsize=(30, 20))\n",
    "ax1[0].plot(velocity[0])\n",
    "ax1[0].set_title(\"Velocity in x-direction\")\n",
    "ax1[0].set_xlabel(\"Servoing Step\")\n",
    "ax1[0].set_ylabel(\"Velocity in m/s\")\n",
    "ax1[0].legend()\n",
    "ax1[0].grid()  \n",
    "\n",
    "# Plot 2: Velocity in y-direction\n",
    "ax1[1].plot(velocity[1])\n",
    "ax1[1].set_title(\"Velocity in y-direction\")\n",
    "ax1[1].set_xlabel(\"Servoing Step\")\n",
    "ax1[1].set_ylabel(\"Velocity in m/s\")\n",
    "ax1[1].legend()\n",
    "ax1[1].grid()\n",
    "\n",
    "# Plot 3: Polynomial interpolation for Velocity in x-direction\n",
    "x = np.arange(len(velocity[0]))\n",
    "fit_coeffs_x = np.polyfit(x, velocity[0], deg=50)  # Adjust degree as needed\n",
    "fit_x = np.polyval(fit_coeffs_x, x)\n",
    "ax2[0].plot(x, velocity[0], label=\"Data\")\n",
    "ax2[0].plot(x, fit_x, label=\"Polynomial Fit\")\n",
    "ax2[0].set_title(\"Polynomial Interpolation for Velocity in x-direction\")\n",
    "ax2[0].set_xlabel(\"Servoing Step\")\n",
    "ax2[0].set_ylabel(\"Velocity in m/s\")\n",
    "ax2[0].legend()\n",
    "ax2[0].grid()\n",
    "\n",
    "# Plot 4: Polynomial interpolation for Velocity in y-direction\n",
    "fit_coeffs_y = np.polyfit(x, velocity[1], deg=50)  # Adjust degree as needed\n",
    "fit_y = np.polyval(fit_coeffs_y, x)\n",
    "ax2[1].plot(x, velocity[1], label=\"Data\")\n",
    "ax2[1].plot(x, fit_y, label=\"Polynomial Fit\")\n",
    "ax2[1].set_title(\"Polynomial Interpolation for Velocity in y-direction\")\n",
    "ax2[1].set_xlabel(\"Servoing Step\")\n",
    "ax2[1].set_ylabel(\"Velocity in m/s\")\n",
    "ax2[1].legend()\n",
    "ax2[1].grid()\n",
    "\n",
    "plt.suptitle('Twist while Servoing', fontsize=24)\n",
    "plt.tight_layout()\n",
    "plt.show()\n",
    "\n"
   ]
  },
  {
   "cell_type": "markdown",
   "metadata": {},
   "source": [
    "# Linarty of Key Points over time\n"
   ]
  },
  {
   "cell_type": "code",
   "execution_count": null,
   "metadata": {},
   "outputs": [],
   "source": [
    "# We want to analyse the servoing informations[6]\n",
    "lin_factor = []\n",
    "for i in range(len(servoing_informations)):\n",
    "    lin_factor.append(servoing_informations[i][7])\n",
    "False\n",
    "# Plot the linear factor\n",
    "plt.figure(figsize=(15, 5))\n",
    "plt.grid()\n",
    "plt.plot(lin_factor)\n",
    "plt.title('Linear factor')\n",
    "plt.xlabel('Iteration')\n",
    "plt.ylabel('Linear factor')\n",
    "plt.show()\n",
    "    "
   ]
  },
  {
   "cell_type": "markdown",
   "metadata": {},
   "source": [
    "# Visualize Robotpose and Robotorientation"
   ]
  },
  {
   "cell_type": "code",
   "execution_count": null,
   "metadata": {},
   "outputs": [],
   "source": [
    "goal_pose = goal_informations[5]\n",
    "goal_pose = eval(goal_pose)\n",
    "roll_goal,pitch_goal,yaw_goal = R.from_quat([goal_pose[3],goal_pose[4],goal_pose[5],goal_pose[6]]).as_euler('xyz', degrees=True)\n",
    "\n",
    "current_pose = []\n",
    "\n",
    "for i in range(0, len(servoing_informations)):\n",
    "    servoing_informations[i][8] = eval(servoing_informations[i][8])\n",
    "    current_pose.append(servoing_informations[i][8])\n",
    "\n",
    "delta_x = []\n",
    "delta_y = []\n",
    "rotation_z = []\n",
    "\n",
    "for i in range(0, len(servoing_informations)):\n",
    "    delta_x.append(servoing_informations[i][8][0] - goal_pose[0])\n",
    "    delta_y.append(servoing_informations[i][8][1] - goal_pose[1])\n",
    "    roll_current,pitch_current,yaw_current = R.from_quat([servoing_informations[i][8][3],servoing_informations[i][8][4],servoing_informations[i][8][5],servoing_informations[i][8][6]]).as_euler('xyz', degrees=True)\n",
    "    rotation_z.append(yaw_current - yaw_goal)\n"
   ]
  },
  {
   "cell_type": "code",
   "execution_count": null,
   "metadata": {},
   "outputs": [],
   "source": [
    "fig, (ax1, ax2) = plt.subplots(1, 2, figsize=(30, 10))\n",
    "\n",
    "ax1.grid()\n",
    "ax1.plot(delta_x)\n",
    "ax1.set_title(\"Distance to goal in x-direction\")\n",
    "ax1.axhline(0, color='red', linestyle='--') \n",
    "ax1.set_xlabel(\"Servoing Step\", fontsize=16)\n",
    "ax1.set_ylabel(\"Distance in m\", fontsize=16)\n",
    "\n",
    "ax2.grid()\n",
    "ax2.plot(delta_y)\n",
    "ax2.set_title(\"Distance to goal y-direction\")\n",
    "ax2.axhline(0, color='red', linestyle='--') \n",
    "ax2.set_xlabel(\"Servoing Step\", fontsize=16)\n",
    "ax2.set_ylabel(\"Distance in m\", fontsize=16)\n",
    "\n",
    "plt.suptitle('Distance to goal while Servoing', fontsize=24)\n",
    "plt.show()"
   ]
  },
  {
   "cell_type": "code",
   "execution_count": null,
   "metadata": {},
   "outputs": [],
   "source": [
    "plt.figure(figsize=(15, 5))\n",
    "plt.plot(rotation_z)\n",
    "plt.grid()\n",
    "plt.title('Angle to goal around z-axis')    \n",
    "plt.xlabel('Iteration')\n",
    "plt.ylabel('Angle in degrees')\n",
    "plt.show()"
   ]
  },
  {
   "cell_type": "markdown",
   "metadata": {},
   "source": [
    "# Zielbild und Enpose Visueller Vergleich"
   ]
  },
  {
   "cell_type": "code",
   "execution_count": null,
   "metadata": {},
   "outputs": [],
   "source": [
    "import cv2\n",
    "import numpy as np\n",
    "from PIL import ImageOps\n",
    "from PIL import Image, ImageOps"
   ]
  },
  {
   "cell_type": "markdown",
   "metadata": {},
   "source": [
    "## Pixelerror between the goal Feature Points and the end feature Points"
   ]
  },
  {
   "cell_type": "code",
   "execution_count": null,
   "metadata": {},
   "outputs": [],
   "source": [
    "# print(goal_featurepoints)\n",
    "# print(servoing_informations[-1][0])\n",
    "goal_featurepoints = np.array(goal_featurepoints, dtype=np.int64)\n",
    "end_featurepoints = eval(servoing_informations[-1][0])"
   ]
  },
  {
   "cell_type": "code",
   "execution_count": null,
   "metadata": {},
   "outputs": [],
   "source": [
    "# Berechnung der Differenzen zwischen den Koordinaten in x- und y-Richtung\n",
    "differences = np.array(goal_featurepoints) - np.array(end_featurepoints)\n",
    "\n",
    "# Durchschnittliche Pixelfehler in x- und y-Richtung\n",
    "average_pixel_error = np.mean(abs(differences), axis=0)\n",
    "\n",
    "print(\"Durchschnittlicher Pixelfehler in x-Richtung:\", average_pixel_error[0])\n",
    "print(\"Durchschnittlicher Pixelfehler in y-Richtung:\", average_pixel_error[1])\n"
   ]
  },
  {
   "cell_type": "code",
   "execution_count": null,
   "metadata": {},
   "outputs": [],
   "source": [
    "pixel_in_mm = 1.12 # wieviel enspricht ein Pixel in mm bei Kameraeinstellung im Mittel 870 pixel pro Meter\n",
    "\n",
    "print(\"Durchschnittlicher Abweichug in mm in x-Richtung:\", average_pixel_error[0]*pixel_in_mm)\n",
    "print(\"Durchschnittlicher Abweichug in mm  in y-Richtung:\", average_pixel_error[1]*pixel_in_mm) "
   ]
  },
  {
   "cell_type": "markdown",
   "metadata": {},
   "source": [
    "## Vizualation of the End and Goal Feature Points in the goal Image"
   ]
  },
  {
   "cell_type": "code",
   "execution_count": null,
   "metadata": {},
   "outputs": [],
   "source": [
    "def img_patch(img, im_size):\n",
    "    # Calculate the aspect ratio of the image\n",
    "    img_ratio = img.width / img.height\n",
    "\n",
    "    # If the image is wider than it is high\n",
    "    if img_ratio > 1:\n",
    "        # Scale the width to the desired size and calculate the height while maintaining the aspect ratio\n",
    "        new_width = im_size[0]\n",
    "        new_height = int(new_width / img_ratio)\n",
    "    # If the image is taller than it is wide\n",
    "    else:\n",
    "        # Scale the height to the desired size and calculate the width while maintaining the aspect ratio\n",
    "        new_height = im_size[1]\n",
    "        new_width = int(new_height * img_ratio)\n",
    "\n",
    "    # Resize the image to the calculated size while maintaining the aspect ratio\n",
    "    img = img.resize((new_width, new_height), resample=Image.BICUBIC)\n",
    "\n",
    "    # Add black borders to the left and right or top and bottom of the image to make it the desired size\n",
    "    delta_w = im_size[0] - new_width\n",
    "    delta_h = im_size[1] - new_height\n",
    "    pad_width = delta_w // 2\n",
    "    pad_height = delta_h // 2\n",
    "    padding = (pad_width, pad_height, delta_w - pad_width, delta_h - pad_height)\n",
    "    \n",
    "    img = ImageOps.expand(img, border=padding, fill=(255,255,255))\n",
    "\n",
    "    # Return the scaled and centered image\n",
    "    return img\n",
    "\n"
   ]
  },
  {
   "cell_type": "markdown",
   "metadata": {},
   "source": [
    "### Goal image"
   ]
  },
  {
   "cell_type": "code",
   "execution_count": null,
   "metadata": {},
   "outputs": [],
   "source": [
    "# Load the image\n",
    "img = Image.open('/home/scco0002/catkin_ws/src/iaps_ur5e_sim/scripts/kovis_moduls/img/goal_pic/goal_picture.png')\n",
    "\n",
    "# Define the desired size\n",
    "desired_size = (720, 720)\n",
    "\n",
    "# Call the img_patch function\n",
    "patched_img = img_patch(img, desired_size)\n"
   ]
  },
  {
   "cell_type": "code",
   "execution_count": null,
   "metadata": {},
   "outputs": [],
   "source": [
    "# Add the Keypoints of the Goal Image\n",
    "# Convert the PIL Image to a numpy array (and convert RGB to BGR for use with cv2)\n",
    "patched_img = cv2.cvtColor(np.array(patched_img), cv2.COLOR_RGB2BGR)\n",
    "\n",
    "scaled_featurepoints = []\n",
    "for point in goal_featurepoints:\n",
    "    # Multipliziere jeden Punkt mit dem Faktor 2\n",
    "    scaled_point = [coordinate * 2 for coordinate in point]\n",
    "    scaled_featurepoints.append(scaled_point)\n",
    "\n",
    "    # Färbe den Pixel rot\n",
    "    patched_img[scaled_point[1], scaled_point[0]] = [0, 0, 255]  # BGR color\n",
    "\n",
    "cv2.imwrite('servoing_csv/validation_picture/validation_only_goal_picture.png', patched_img)\n",
    "\n",
    "# zeige das Bild an\n",
    "plt.imshow(patched_img)\n"
   ]
  },
  {
   "cell_type": "markdown",
   "metadata": {},
   "source": [
    "### Current Image"
   ]
  },
  {
   "cell_type": "code",
   "execution_count": null,
   "metadata": {},
   "outputs": [],
   "source": [
    "# Load the image\n",
    "img = Image.open('/home/scco0002/catkin_ws/src/iaps_ur5e_sim/scripts/kovis_moduls/img/current_pic/current_picture.png')\n",
    "\n",
    "# Define the desired size\n",
    "desired_size = (720, 720)\n",
    "\n",
    "# Call the img_patch function\n",
    "patched_img = img_patch(img, desired_size)"
   ]
  },
  {
   "cell_type": "code",
   "execution_count": null,
   "metadata": {},
   "outputs": [],
   "source": [
    "patched_img = cv2.cvtColor(np.array(patched_img), cv2.COLOR_RGB2BGR)\n",
    "\n",
    "scaled_featurepoints = []\n",
    "for point in end_featurepoints:\n",
    "    # Multipliziere jeden Punkt mit dem Faktor 2\n",
    "    scaled_point = [coordinate * 2 for coordinate in point]\n",
    "    scaled_featurepoints.append(scaled_point)\n",
    "    #Färbe den Pixel\n",
    "    patched_img[scaled_point[1], scaled_point[0]] = [255, 0, 0]  # Blue\n",
    "\n",
    "cv2.imwrite('servoing_csv/validation_picture/validation_only_current_picture.png', patched_img)\n",
    "\n",
    "# zeige das Bild an\n",
    "plt.imshow(patched_img)"
   ]
  },
  {
   "cell_type": "markdown",
   "metadata": {},
   "source": [
    "### Both, based current"
   ]
  },
  {
   "cell_type": "code",
   "execution_count": null,
   "metadata": {},
   "outputs": [],
   "source": [
    "# Load the image\n",
    "#img = Image.open('/home/scco0002/catkin_ws/src/iaps_ur5e_sim/scripts/kovis_moduls/img/goal_pic/goal_picture.png')\n",
    "img = Image.open('/home/scco0002/catkin_ws/src/iaps_ur5e_sim/scripts/kovis_moduls/img/current_pic/current_picture.png')\n",
    "\n",
    "# Define the desired size\n",
    "desired_size = (720, 720)\n",
    "\n",
    "# Call the img_patch function\n",
    "patched_img = img_patch(img, desired_size)\n"
   ]
  },
  {
   "cell_type": "code",
   "execution_count": null,
   "metadata": {},
   "outputs": [],
   "source": [
    "# Add the Keypoints of the Goal Image\n",
    "# Convert the PIL Image to a numpy array (and convert RGB to BGR for use with cv2)\n",
    "patched_img = cv2.cvtColor(np.array(patched_img), cv2.COLOR_RGB2BGR)\n",
    "\n",
    "scaled_featurepoints = []\n",
    "for point in goal_featurepoints:\n",
    "    # Multipliziere jeden Punkt mit dem Faktor 2\n",
    "    scaled_point = [coordinate * 2 for coordinate in point]\n",
    "    scaled_featurepoints.append(scaled_point)\n",
    "\n",
    "    # Färbe den Pixel rot\n",
    "    patched_img[scaled_point[1], scaled_point[0]] = [0, 0, 255]  # BGR color\n",
    "\n",
    "# Add the Keypoints of the end Image\n",
    "# Coloring for servoing_information points in blue\n",
    "scaled_featurepoints = []\n",
    "for point in end_featurepoints:\n",
    "    # Multipliziere jeden Punkt mit dem Faktor 2\n",
    "    scaled_point = [coordinate * 2 for coordinate in point]\n",
    "    scaled_featurepoints.append(scaled_point)\n",
    "    #Färbe den Pixel\n",
    "    patched_img[scaled_point[1], scaled_point[0]] = [255, 0, 0]  # Blue\n",
    "#Save the edited image\n",
    "cv2.imwrite('servoing_csv/validation_picture/validation_both_based_current_picture.png', patched_img)\n",
    "\n",
    "# zeige das Bild an\n",
    "plt.imshow(patched_img)\n",
    "\n",
    "# zeige das Bild an\n",
    "plt.imshow(patched_img)"
   ]
  },
  {
   "cell_type": "markdown",
   "metadata": {},
   "source": [
    "### Both, based goal\n"
   ]
  },
  {
   "cell_type": "code",
   "execution_count": null,
   "metadata": {},
   "outputs": [],
   "source": [
    "# Load the image\n",
    "img = Image.open('/home/scco0002/catkin_ws/src/iaps_ur5e_sim/scripts/kovis_moduls/img/goal_pic/goal_picture.png')\n",
    "#img = Image.open('/home/scco0002/catkin_ws/src/iaps_ur5e_sim/scripts/kovis_moduls/img/current_pic/current_picture.png')\n",
    "\n",
    "# Define the desired size\n",
    "desired_size = (720, 720)\n",
    "\n",
    "# Call the img_patch function\n",
    "patched_img = img_patch(img, desired_size)\n"
   ]
  },
  {
   "cell_type": "code",
   "execution_count": null,
   "metadata": {},
   "outputs": [],
   "source": [
    "# Add the Keypoints of the Goal Image\n",
    "# Convert the PIL Image to a numpy array (and convert RGB to BGR for use with cv2)\n",
    "patched_img = cv2.cvtColor(np.array(patched_img), cv2.COLOR_RGB2BGR)\n",
    "\n",
    "scaled_featurepoints = []\n",
    "for point in goal_featurepoints:\n",
    "    # Multipliziere jeden Punkt mit dem Faktor 2\n",
    "    scaled_point = [coordinate * 2 for coordinate in point]\n",
    "    scaled_featurepoints.append(scaled_point)\n",
    "\n",
    "    # Färbe den Pixel rot\n",
    "    patched_img[scaled_point[1], scaled_point[0]] = [0, 0, 255]  # BGR color\n",
    "\n",
    "# Add the Keypoints of the end Image\n",
    "# Coloring for servoing_information points in blue\n",
    "scaled_featurepoints = []\n",
    "for point in end_featurepoints:\n",
    "    # Multipliziere jeden Punkt mit dem Faktor 2\n",
    "    scaled_point = [coordinate * 2 for coordinate in point]\n",
    "    scaled_featurepoints.append(scaled_point)\n",
    "    #Färbe den Pixel\n",
    "    patched_img[scaled_point[1], scaled_point[0]] = [255, 0, 0]  # Blue\n",
    "#Save the edited image\n",
    "cv2.imwrite('servoing_csv/validation_picture/validation_both_based_goal_picture.png', patched_img)\n",
    "\n",
    "# zeige das Bild an\n",
    "plt.imshow(patched_img)"
   ]
  }
 ],
 "metadata": {
  "kernelspec": {
   "display_name": "Python 3",
   "language": "python",
   "name": "python3"
  },
  "language_info": {
   "codemirror_mode": {
    "name": "ipython",
    "version": 3
   },
   "file_extension": ".py",
   "mimetype": "text/x-python",
   "name": "python",
   "nbconvert_exporter": "python",
   "pygments_lexer": "ipython3",
   "version": "3.8.10"
  }
 },
 "nbformat": 4,
 "nbformat_minor": 2
}

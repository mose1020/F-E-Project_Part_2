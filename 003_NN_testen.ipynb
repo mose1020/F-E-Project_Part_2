{
 "cells": [
  {
   "attachments": {},
   "cell_type": "markdown",
   "metadata": {},
   "source": [
    "## Import"
   ]
  },
  {
   "cell_type": "code",
   "execution_count": null,
   "metadata": {},
   "outputs": [],
   "source": [
    "import os\n",
    "import sys\n",
    "import yaml\n",
    "import numpy as np\n",
    "import math\n",
    "import matplotlib.pyplot as plt\n",
    "\n",
    "import torch\n",
    "import torch.backends.cudnn as cudnn\n",
    "import torch.optim\n",
    "import torch.utils.data.dataloader as loader\n",
    "import torch.nn.functional as F\n",
    "\n",
    "from PIL import Image\n",
    "from tqdm import trange, tqdm\n",
    "from collections import namedtuple\n",
    "\n",
    "from train_dataset import DataServoStereo\n",
    "import train_model as model"
   ]
  },
  {
   "attachments": {},
   "cell_type": "markdown",
   "metadata": {},
   "source": [
    "## Load configuartion and model"
   ]
  },
  {
   "cell_type": "code",
   "execution_count": null,
   "metadata": {},
   "outputs": [],
   "source": [
    "with open(\"cfg/train_real_images.yaml\", \"r\") as f:\n",
    "    config = yaml.safe_load(f)\n",
    "\n",
    "gpu_enabled = config[\"gpu\"]\n",
    "\n",
    "if gpu_enabled:\n",
    "    print(\"Trained on GPU\")\n",
    "else:\n",
    "    print(\"Trained on CPU\")"
   ]
  },
  {
   "cell_type": "code",
   "execution_count": null,
   "metadata": {},
   "outputs": [],
   "source": [
    "if gpu_enabled == True:\n",
    "    torch.cuda.is_available()\n",
    "    torch.cuda.device_count()\n",
    "    torch.cuda.current_device()\n",
    "    torch.cuda.device(0)\n",
    "    torch.cuda.get_device_name(0)"
   ]
  },
  {
   "cell_type": "code",
   "execution_count": null,
   "metadata": {},
   "outputs": [],
   "source": [
    "if gpu_enabled == True:\n",
    "    cudnn.enabled = True\n",
    "    cudnn.benchmark = True\n",
    "    cudnn.deterministic = True"
   ]
  },
  {
   "cell_type": "code",
   "execution_count": null,
   "metadata": {},
   "outputs": [],
   "source": [
    "arg = yaml.load(open(\"cfg/train_real_images.yaml\", 'r'), yaml.Loader)\n",
    "arg = namedtuple('Arg', arg.keys())(**arg)\n"
   ]
  },
  {
   "cell_type": "code",
   "execution_count": null,
   "metadata": {},
   "outputs": [],
   "source": [
    "torch.manual_seed(0)\n",
    "np.random.seed(0)"
   ]
  },
  {
   "cell_type": "code",
   "execution_count": null,
   "metadata": {},
   "outputs": [],
   "source": [
    "kper = model.KeyPointGaussian(arg.sigma_kp[0], (arg.num_keypoint, *arg.im_size[1]))\n",
    "if gpu_enabled ==True:\n",
    "    enc = model.Encoder(arg.num_input, arg.num_keypoint, arg.growth_rate[0], arg.blk_cfg_enc, arg.drop_rate, kper).cuda()\n",
    "else:\n",
    "    enc = model.Encoder(arg.num_input, arg.num_keypoint, arg.growth_rate[0], arg.blk_cfg_enc, arg.drop_rate, kper)"
   ]
  },
  {
   "cell_type": "code",
   "execution_count": null,
   "metadata": {},
   "outputs": [],
   "source": [
    "def load_checkpoint(base_dir):\n",
    "    cp_net = torch.load(os.path.join(base_dir, 'ckpt.pth'))\n",
    "    enc.load_state_dict(cp_net['enc_state_dict'])\n",
    "    print('checkpoint loaded.')"
   ]
  },
  {
   "attachments": {},
   "cell_type": "markdown",
   "metadata": {},
   "source": [
    "## definition of the test_function "
   ]
  },
  {
   "cell_type": "code",
   "execution_count": null,
   "metadata": {},
   "outputs": [],
   "source": [
    "def test(loader_test):\n",
    "    from skimage import transform\n",
    "    color = yaml.load(open('cfg/color.yaml', 'r'), Loader=yaml.Loader)\n",
    "\n",
    "\n",
    "    keypoint_pos_alle_bilder = [] \n",
    "\n",
    "    for i, (img) in enumerate(loader_test): # i = pictures in test folder\n",
    "\n",
    "        if gpu_enabled ==True:\n",
    "            img = img.cuda()\n",
    "            # plug_mask_tensor = plug_mask_tensor.cuda()\n",
    "\n",
    "        # forward-pass\n",
    "        keypL = enc(img) # left picture\n",
    "        keyp = keypL[1].detach().squeeze().cpu().numpy() #convert tensor to numpy array\n",
    "        \n",
    "\n",
    "        # keypoint_pos is the position of the keypoint in the array so also in the image\n",
    "        keypoint_pos_ein_bild = [] # we probably need for visual servoing\n",
    "        \n",
    "\n",
    "        for k in range(len(keyp)): #k = die features auf jedem Bild\n",
    "        \n",
    "            flat_index = np.argmax(keyp[k]) # maximum value within the array\n",
    "            y, x = np.unravel_index(flat_index, keyp[k].shape) #  position des maximums im array \n",
    "            keypoint_pos_ein_bild.append([x,y])\n",
    "        \n",
    "        keypoint_pos_alle_bilder.append(keypoint_pos_ein_bild)\n",
    "\n",
    "\n",
    "        # Visualize keypoints\n",
    "        keyps = np.zeros((img.size(2), img.size(3), 3), float)\n",
    "        for j in range(keyp.shape[0]):\n",
    "            keyps = keyps + np.tile(transform.resize(keyp[j], keyps.shape[:2])[:, :, np.newaxis], [1, 1, 3]) * \\\n",
    "                    np.array(color[j]).reshape(1, 1, 3)\n",
    "\n",
    "        keyps = (keyps * 255).round().astype(np.uint8) \n",
    "        img_out = ((img.detach().squeeze().cpu().numpy() * 0.25) * 255 + 128).round().clip(0, 255).astype(np.uint8)\n",
    "       \n",
    "        # plug_mask = plug_mask.numpy()\n",
    "        # plug_mask = plug_mask.transpose((1, 2, 0))\n",
    "        # plug_mask = np.squeeze(plug_mask)\n",
    "\n",
    "        \n",
    "        if arg.num_input ==1:\n",
    "            \n",
    "            Image.fromarray(np.hstack((np.tile(img_out[:, :, None], [1, 1, 3]), keyps,np.uint8(np.tile(img_out[:, :, None], [1, 1, 3]) +0.8*keyps)))).save(os.path.join(arg.dir_base, 'test/{:04d}.png'.format(i)))\n",
    "            # Image.fromarray(np.uint8(plug_mask) * 255).save(os.path.join(arg.dir_base, 'test/{:04d}binary.png'.format(i)))\n",
    "\n",
    "\n",
    "        else:\n",
    "            \n",
    "            img_out = img_out.transpose((1, 2, 0)) # img has the wrong shape, therefore must be reshaped\n",
    "            Image.fromarray(np.hstack((img_out, keyps,np.uint8(img_out +0.5*keyps)))).save(os.path.join(arg.dir_base, 'test/{:04d}.png'.format(i)))\n",
    "            # Image.fromarray(np.uint8(plug_mask) * 255).save(os.path.join(arg.dir_base, 'test/{:04d}binary.png'.format(i)))\n",
    "            \n",
    "\n",
    "    return keypoint_pos_ein_bild,keypoint_pos_alle_bilder\n"
   ]
  },
  {
   "attachments": {},
   "cell_type": "markdown",
   "metadata": {},
   "source": [
    "## Main-function for the test"
   ]
  },
  {
   "cell_type": "code",
   "execution_count": null,
   "metadata": {},
   "outputs": [],
   "source": [
    "def main_test():\n",
    "\n",
    "    if arg.task in ['full', 'test']:\n",
    "        # directory\n",
    "        if not os.path.isdir(os.path.join(arg.dir_base, 'test')):\n",
    "            os.makedirs(os.path.join(arg.dir_base, 'test'))\n",
    "\n",
    "        # dataset\n",
    "        if arg.num_input == 1:\n",
    "        \n",
    "            print(\"Testen mit Graustufen-Bildern\")\n",
    "            ds_test = DataServoStereo(arg,False,grey=True)\n",
    "        \n",
    "        else:\n",
    "            print(\"Testen mit RGB-Bildern\")\n",
    "            ds_test = DataServoStereo(arg,False,grey=False)\n",
    "\n",
    "        # load database\n",
    "        #data_param = {'shuffle': False}\n",
    "        loader_test = loader.DataLoader(ds_test)\n",
    "\n",
    "\n",
    "        # load model\n",
    "        load_checkpoint(arg.dir_base)\n",
    "        enc.eval()\n",
    "        kper.sigma = arg.sigma_kp[1]\n",
    "\n",
    "        # test\n",
    "        print('testing...')\n",
    "        keypoint_pos_ein_bild,keypoint_pos_alle_bilder = test(loader_test)\n",
    "    \n",
    "    return keypoint_pos_ein_bild,keypoint_pos_alle_bilder"
   ]
  },
  {
   "cell_type": "code",
   "execution_count": null,
   "metadata": {},
   "outputs": [],
   "source": [
    "keypoint_pos_ein_bild,keypoint_pos_alle_bilder = main_test()"
   ]
  },
  {
   "attachments": {},
   "cell_type": "markdown",
   "metadata": {},
   "source": [
    "# Test für Keypointselection"
   ]
  },
  {
   "cell_type": "code",
   "execution_count": null,
   "metadata": {},
   "outputs": [],
   "source": [
    "keypoints_selected = [2,24,0,20,4,31,9,29,30,26,16]\n",
    "keypoints_goal_selected = []\n",
    "\n",
    "print(keypoint_pos_ein_bild)\n",
    "\n",
    "for i in keypoints_selected:\n",
    "    keypoints_goal_selected.append(keypoint_pos_ein_bild[i])\n",
    "\n",
    "print(keypoints_goal_selected)"
   ]
  },
  {
   "attachments": {},
   "cell_type": "markdown",
   "metadata": {},
   "source": [
    "## Validation"
   ]
  },
  {
   "attachments": {},
   "cell_type": "markdown",
   "metadata": {},
   "source": [
    "### General settings"
   ]
  },
  {
   "cell_type": "code",
   "execution_count": null,
   "metadata": {},
   "outputs": [],
   "source": [
    "move_in_x = \"0.01\" # Robot movement in x-direction\n",
    "move_in_y = \"0.01\" # Robot movement in y-direction"
   ]
  },
  {
   "attachments": {},
   "cell_type": "markdown",
   "metadata": {},
   "source": [
    "Take the start image and calculate the average distance from each keypoint to the other keypoints. Then sort the keypoints by distance."
   ]
  },
  {
   "cell_type": "code",
   "execution_count": null,
   "metadata": {},
   "outputs": [],
   "source": [
    "coords = keypoint_pos_alle_bilder[0]\n",
    "n = len(keypoint_pos_alle_bilder[0])\n",
    "\n",
    "\n",
    "mean_dists = []\n",
    "\n",
    "for i in range(n):\n",
    "    dist_sum = 0.0\n",
    "    num_points = 0\n",
    "    for j in range(n):\n",
    "        if i == j:\n",
    "            continue\n",
    "        dist = math.sqrt((coords[i][0]-coords[j][0])**2 + (coords[i][1]-coords[j][1])**2)\n",
    "        dist_sum += dist\n",
    "        num_points += 1\n",
    "    mean_dist = dist_sum / num_points\n",
    "    mean_dists.append((i, mean_dist))\n",
    "\n",
    "mean_dists_sorted = sorted(mean_dists, key=lambda x: x[1], reverse=True)\n",
    "\n",
    "for i, mean_dist in mean_dists_sorted:\n",
    "    print(\"Mittlere Distanz zwischen Punkt\", i, \"und allen anderen Punkten:\", mean_dist)"
   ]
  },
  {
   "attachments": {},
   "cell_type": "markdown",
   "metadata": {},
   "source": [
    "Here the 5 keypoints are selected, which are used for the validation."
   ]
  },
  {
   "cell_type": "code",
   "execution_count": null,
   "metadata": {},
   "outputs": [],
   "source": [
    "keypoint_1 = 2\n",
    "keypoint_2 = 24\n",
    "keypoint_3 = 4\n",
    "keypoint_4 = 9\n",
    "keypoint_5 = 30\n",
    "\n",
    "\n",
    "print(\"keypoint_1 hat die Nummer: \",keypoint_1, \"und die Start-Kooridnaten: \", keypoint_pos_alle_bilder[0][keypoint_1])\n",
    "print(\"keypoint_2 hat die Nummer: \",keypoint_2, \"und die Start-Kooridnaten: \", keypoint_pos_alle_bilder[0][keypoint_2])\n",
    "print(\"keypoint_3 hat die Nummer: \",keypoint_3, \"und die Start-Kooridnaten: \", keypoint_pos_alle_bilder[0][keypoint_3])\n",
    "print(\"keypoint_4 hat die Nummer: \",keypoint_4, \"und die Start-Kooridnaten: \", keypoint_pos_alle_bilder[0][keypoint_4])\n",
    "print(\"keypoint_5 hat die Nummer: \",keypoint_5, \"und die Start-Kooridnaten: \", keypoint_pos_alle_bilder[0][keypoint_5])\n"
   ]
  },
  {
   "attachments": {},
   "cell_type": "markdown",
   "metadata": {},
   "source": [
    "Determine the change of the image coordinate for each of the 5 keypoints."
   ]
  },
  {
   "cell_type": "code",
   "execution_count": null,
   "metadata": {},
   "outputs": [],
   "source": [
    "keypoint_1_pos = []\n",
    "keypoint_2_pos = []\n",
    "keypoint_3_pos = []\n",
    "keypoint_4_pos = []\n",
    "keypoint_5_pos = []\n",
    "\n",
    "\n",
    "for i in range(len(keypoint_pos_alle_bilder)):\n",
    "    keypoint_1_pos.append(keypoint_pos_alle_bilder[i][keypoint_1])\n",
    "    keypoint_2_pos.append(keypoint_pos_alle_bilder[i][keypoint_2])\n",
    "    keypoint_3_pos.append(keypoint_pos_alle_bilder[i][keypoint_3])\n",
    "    keypoint_4_pos.append(keypoint_pos_alle_bilder[i][keypoint_4])\n",
    "    keypoint_5_pos.append(keypoint_pos_alle_bilder[i][keypoint_5])\n"
   ]
  },
  {
   "attachments": {},
   "cell_type": "markdown",
   "metadata": {},
   "source": [
    "Extract the x and y coordinate from the image coordinates."
   ]
  },
  {
   "cell_type": "code",
   "execution_count": null,
   "metadata": {},
   "outputs": [],
   "source": [
    "keypoint_1_x = []\n",
    "keypoint_1_y = []\n",
    "keypoint_2_x = []\n",
    "keypoint_2_y = []\n",
    "keypoint_3_x = []\n",
    "keypoint_3_y = []\n",
    "keypoint_4_x = []\n",
    "keypoint_4_y = []\n",
    "keypoint_5_x = []\n",
    "keypoint_5_y = []\n",
    "\n",
    "for i in range(len(keypoint_1_pos)):\n",
    "    keypoint_1_x.append(keypoint_1_pos[i][0])\n",
    "    keypoint_1_y.append(keypoint_1_pos[i][1])\n",
    "    keypoint_2_x.append(keypoint_2_pos[i][0])\n",
    "    keypoint_2_y.append(keypoint_2_pos[i][1])\n",
    "    keypoint_3_x.append(keypoint_3_pos[i][0])\n",
    "    keypoint_3_y.append(keypoint_3_pos[i][1])\n",
    "    keypoint_4_x.append(keypoint_4_pos[i][0])\n",
    "    keypoint_4_y.append(keypoint_4_pos[i][1])\n",
    "    keypoint_5_x.append(keypoint_5_pos[i][0])\n",
    "    keypoint_5_y.append(keypoint_5_pos[i][1])\n",
    "\n",
    "print(\"keypoint_1_pos_x: \", keypoint_1_x)\n",
    "print(\"keypoint_2_pos_x: \", keypoint_2_x)\n",
    "print(\"keypoint_3_pos_x: \", keypoint_3_x)\n",
    "print(\"keypoint_4_pos_x: \", keypoint_4_x)\n",
    "print(\"keypoint_5_pos_x: \", keypoint_5_x)\n",
    "\n",
    "print(\"\\n\")\n",
    "\n",
    "print(\"keypoint_1_pos_y: \", keypoint_1_y)\n",
    "print(\"keypoint_2_pos_y: \", keypoint_2_y)\n",
    "print(\"keypoint_3_pos_y: \", keypoint_3_y)\n",
    "print(\"keypoint_4_pos_y: \", keypoint_4_y)\n",
    "print(\"keypoint_5_pos_y: \", keypoint_5_y)\n"
   ]
  },
  {
   "attachments": {},
   "cell_type": "markdown",
   "metadata": {},
   "source": [
    "### Validation in the direction of the y-axis"
   ]
  },
  {
   "attachments": {},
   "cell_type": "markdown",
   "metadata": {},
   "source": [
    "Plot 1: Change of the x-image coordinate in realization to the robot movement in x-direction."
   ]
  },
  {
   "cell_type": "code",
   "execution_count": null,
   "metadata": {},
   "outputs": [],
   "source": [
    "if move_in_x == \"0\":\n",
    "    print(\"keine Verschiebung in x-Richtung,daher wird das Diagramm nicht geplottet\")\n",
    "else:\n",
    "    x_axis = np.arange(0, len(keypoint_1_x), 1) * float(move_in_x)\n",
    "\n",
    "    coefficients_keypoint_1 = np.polyfit(x_axis, keypoint_1_x, 1)\n",
    "    coefficients_keypoint_2 = np.polyfit(x_axis, keypoint_2_x, 1)\n",
    "    coefficients_keypoint_3 = np.polyfit(x_axis, keypoint_3_x, 1)\n",
    "    coefficients_keypoint_4 = np.polyfit(x_axis, keypoint_4_x, 1)\n",
    "    coefficients_keypoint_5 = np.polyfit(x_axis, keypoint_5_x, 1)\n",
    "\n",
    "    figure = plt.figure(figsize=(10, 10))\n",
    "    plt.scatter(x_axis, keypoint_1_x, label = \"keypoint_1_x\",marker='o')\n",
    "    plt.scatter(x_axis, keypoint_2_x, label = \"keypoint_2_x\",marker='x')\n",
    "    plt.scatter(x_axis, keypoint_3_x, label = \"keypoint_3_x\",marker='*')\n",
    "    plt.scatter(x_axis, keypoint_4_x, label = \"keypoint_4_x\",marker='^')\n",
    "    plt.scatter(x_axis, keypoint_5_x, label = \"keypoint_5_x\",marker='s')\n",
    "\n",
    "    plt.plot(x_axis, np.polyval(coefficients_keypoint_1, x_axis), label='Regression keypoint_1_x')\n",
    "    plt.plot(x_axis, np.polyval(coefficients_keypoint_2, x_axis), label='Regression keypoint_2_x')\n",
    "    plt.plot(x_axis, np.polyval(coefficients_keypoint_3, x_axis), label='Regression keypoint_3_x')\n",
    "    plt.plot(x_axis, np.polyval(coefficients_keypoint_4, x_axis), label='Regression keypoint_4_x')\n",
    "    plt.plot(x_axis, np.polyval(coefficients_keypoint_5, x_axis), label='Regression keypoint_5_x')\n",
    "\n",
    "    plt.legend(loc='center left', bbox_to_anchor=(1, 0.5))\n",
    "    plt.xlabel('Roboterbewegung in x-Richtung [m]')\n",
    "    plt.ylabel('Bildkoordinate in x-Richtung [px]')\n",
    "    plt.title('Veränderung der Bildkoordinate der Keypoints bei einer Roboterbewegung\\n  von ' + move_in_x + ' m Schritten in x-Richtung')\n"
   ]
  },
  {
   "attachments": {},
   "cell_type": "markdown",
   "metadata": {},
   "source": [
    "Standard deviation for the individual keypoints in x-direction"
   ]
  },
  {
   "cell_type": "code",
   "execution_count": null,
   "metadata": {},
   "outputs": [],
   "source": [
    "if move_in_x == \"0\":\n",
    "    print(\"keine Verschiebung in x-Richtung,daher werden diese Werte nicht berechnet\")\n",
    "else:\n",
    "\n",
    "    slope_keypoint_1 = coefficients_keypoint_1[0]\n",
    "    slope_keypoint_2 = coefficients_keypoint_2[0]\n",
    "    slope_keypoint_3 = coefficients_keypoint_3[0]\n",
    "    slope_keypoint_4 = coefficients_keypoint_4[0]\n",
    "    slope_keypoint_5 = coefficients_keypoint_5[0]\n",
    "\n",
    "\n",
    "    intercept_keypoint_1 = coefficients_keypoint_1[1]\n",
    "    intercept_keypoint_2 = coefficients_keypoint_2[1]\n",
    "    intercept_keypoint_3 = coefficients_keypoint_3[1]\n",
    "    intercept_keypoint_4 = coefficients_keypoint_4[1]\n",
    "    intercept_keypoint_5 = coefficients_keypoint_5[1]\n",
    "\n",
    "\n",
    "\n",
    "    keyppoint_1_x_pred = slope_keypoint_1 * x_axis + intercept_keypoint_1\n",
    "    keyppoint_2_x_pred  = slope_keypoint_2 * x_axis + intercept_keypoint_2\n",
    "    keyppoint_3_x_pred  = slope_keypoint_3 * x_axis + intercept_keypoint_3\n",
    "    keyppoint_4_x_pred  = slope_keypoint_4 * x_axis + intercept_keypoint_4\n",
    "    keyppoint_5_x_pred  = slope_keypoint_5 * x_axis + intercept_keypoint_5\n",
    "\n",
    "    pixelabweichung_keypoint_1_x = keypoint_1_x - keyppoint_1_x_pred\n",
    "    pixelabweichung_keypoint_2_x = keypoint_2_x - keyppoint_2_x_pred\n",
    "    pixelabweichung_keypoint_3_x = keypoint_3_x - keyppoint_3_x_pred\n",
    "    pixelabweichung_keypoint_4_x = keypoint_4_x - keyppoint_4_x_pred\n",
    "    pixelabweichung_keypoint_5_x = keypoint_5_x - keyppoint_5_x_pred\n",
    "\n",
    "\n",
    "    # Berechnen der Standardabweichung\n",
    "\n",
    "    std_keypoint_1 = np.std(pixelabweichung_keypoint_1_x) \n",
    "    std_keypoint_2 = np.std(pixelabweichung_keypoint_2_x) \n",
    "    std_keypoint_3 = np.std(pixelabweichung_keypoint_3_x) \n",
    "    std_keypoint_4 = np.std(pixelabweichung_keypoint_4_x) \n",
    "    std_keypoint_5 = np.std(pixelabweichung_keypoint_5_x) \n",
    "\n",
    "\n",
    "    print(\"Standardabweichung Keypoint 1:\", std_keypoint_1) # in Pixel\n",
    "    print(\"Standardabweichung Keypoint 2:\", std_keypoint_2) # in Pixel\n",
    "    print(\"Standardabweichung Keypoint 3:\", std_keypoint_3) # in Pixel\n",
    "    print(\"Standardabweichung Keypoint 4:\", std_keypoint_4) # in Pixel\n",
    "    print(\"Standardabweichung Keypoint 5:\", std_keypoint_5) # in Pixel"
   ]
  },
  {
   "attachments": {},
   "cell_type": "markdown",
   "metadata": {},
   "source": [
    "Standard deviation in x-direction, keypoints in comparison"
   ]
  },
  {
   "cell_type": "code",
   "execution_count": null,
   "metadata": {},
   "outputs": [],
   "source": [
    "if move_in_x == \"0\":\n",
    "    print(\"keine Verschiebung in x-Richtung,daher werden diese Werte nicht berechnet\")\n",
    "else:\n",
    "    gradient_keypoint_1_x = coefficients_keypoint_1[0] # Steigung der Regressionsgeraden\n",
    "    gradient_keypoint_2_x = coefficients_keypoint_2[0] # Steigung der Regressionsgeraden\n",
    "    gradient_keypoint_3_x = coefficients_keypoint_3[0] # Steigung der Regressionsgeraden\n",
    "    gradient_keypoint_4_x = coefficients_keypoint_4[0] # Steigung der Regressionsgeraden\n",
    "    gradient_keypoint_5_x = coefficients_keypoint_5[0] # Steigung der Regressionsgeraden\n",
    "\n",
    "    print(\"Steigung Keypoint 1 [px pro Meter]:\", gradient_keypoint_1_x) # in Pixel pro Meter\n",
    "    print(\"Steigung Keypoint 2 [px pro Meter]:\", gradient_keypoint_2_x) # in Pixel pro Meter\n",
    "    print(\"Steigung Keypoint 3 [px pro Meter]:\", gradient_keypoint_3_x) # in Pixel pro Meter\n",
    "    print(\"Steigung Keypoint 4 [px pro Meter]:\", gradient_keypoint_4_x) # in Pixel pro Meter\n",
    "    print(\"Steigung Keypoint 5 [px pro Meter]:\", gradient_keypoint_5_x) # in Pixel pro Meter\n",
    "\n",
    "    # Berechne die Standardabweichung der Steigungen mit numpy\n",
    "    std_gradient_x = np.std([gradient_keypoint_1_x, gradient_keypoint_2_x, gradient_keypoint_3_x, gradient_keypoint_4_x, gradient_keypoint_5_x])\n",
    "    print(\"Standardabweichung der Steigungen [px pro Meter]: \", std_gradient_x) # in Pixel pro Meter"
   ]
  },
  {
   "attachments": {},
   "cell_type": "markdown",
   "metadata": {},
   "source": [
    "### Validation in the direction of the y-axis"
   ]
  },
  {
   "attachments": {},
   "cell_type": "markdown",
   "metadata": {},
   "source": [
    "Plot 2: Change of y-image coordinate in realization to robot movement in y-direction"
   ]
  },
  {
   "cell_type": "code",
   "execution_count": null,
   "metadata": {},
   "outputs": [],
   "source": [
    "if move_in_y == \"0\":\n",
    "    print(\"keine Verschiebung in y-Richtung,daher wird das Diagramm nicht geplottet\")\n",
    "else:\n",
    "    y_axis = np.arange(0, len(keypoint_1_y), 1) * float(move_in_y)\n",
    "\n",
    "    coefficients_keypoint_1 = np.polyfit(y_axis, keypoint_1_y, 1)\n",
    "    coefficients_keypoint_2 = np.polyfit(y_axis, keypoint_2_y, 1)\n",
    "    coefficients_keypoint_3 = np.polyfit(y_axis, keypoint_3_y, 1)\n",
    "    coefficients_keypoint_4 = np.polyfit(y_axis, keypoint_4_y, 1)\n",
    "    coefficients_keypoint_5 = np.polyfit(y_axis, keypoint_5_y, 1)\n",
    "\n",
    "    figure = plt.figure(figsize=(10, 10))\n",
    "    plt.scatter(y_axis, keypoint_1_y, label = \"keypoint_1_y\",marker='o')\n",
    "    plt.scatter(y_axis, keypoint_2_y, label = \"keypoint_2_y\",marker='x')\n",
    "    plt.scatter(y_axis, keypoint_3_y, label = \"keypoint_3_y\",marker='*')\n",
    "    plt.scatter(y_axis, keypoint_4_y, label = \"keypoint_4_y\",marker='^')\n",
    "    plt.scatter(y_axis, keypoint_5_y, label = \"keypoint_5_y\",marker='s')\n",
    "\n",
    "\n",
    "    plt.plot(y_axis, np.polyval(coefficients_keypoint_1, y_axis), label='Regression keypoint_1_y')\n",
    "    plt.plot(y_axis, np.polyval(coefficients_keypoint_2, y_axis), label='Regression keypoint_2_y')\n",
    "    plt.plot(y_axis, np.polyval(coefficients_keypoint_3, y_axis), label='Regression keypoint_3_y')\n",
    "    plt.plot(y_axis, np.polyval(coefficients_keypoint_4, y_axis), label='Regression keypoint_4_y')\n",
    "    plt.plot(y_axis, np.polyval(coefficients_keypoint_5, y_axis), label='Regression keypoint_5_y')\n",
    "\n",
    "\n",
    "\n",
    "    plt.legend(loc='center left', bbox_to_anchor=(1, 0.5))\n",
    "    plt.xlabel('Roboterbewegung in y-Richtung [m]')\n",
    "    plt.ylabel('Bildkoordinate in y-Richtung [px]')\n",
    "    plt.title('Veränderung der Bildkoordinate der Keypoints bei einer Roboterbewegung\\n  von ' + move_in_y + ' m Schritten in y-Richtung')\n"
   ]
  },
  {
   "attachments": {},
   "cell_type": "markdown",
   "metadata": {},
   "source": [
    "Standard deviation of the individual keypoints in y-direction"
   ]
  },
  {
   "cell_type": "code",
   "execution_count": null,
   "metadata": {},
   "outputs": [],
   "source": [
    "if move_in_y == \"0\":\n",
    "    print(\"keine Verschiebung in y-Richtung,daher werden diese Werte nicht berechnet\")\n",
    "else:\n",
    "\n",
    "    slope_keypoint_1 = coefficients_keypoint_1[0]\n",
    "    slope_keypoint_2 = coefficients_keypoint_2[0]\n",
    "    slope_keypoint_3 = coefficients_keypoint_3[0]\n",
    "    slope_keypoint_4 = coefficients_keypoint_4[0]\n",
    "    slope_keypoint_5 = coefficients_keypoint_5[0]\n",
    "\n",
    "\n",
    "    intercept_keypoint_1 = coefficients_keypoint_1[1]\n",
    "    intercept_keypoint_2 = coefficients_keypoint_2[1]\n",
    "    intercept_keypoint_3 = coefficients_keypoint_3[1]\n",
    "    intercept_keypoint_4 = coefficients_keypoint_4[1]\n",
    "    intercept_keypoint_5 = coefficients_keypoint_5[1]\n",
    "\n",
    "\n",
    "\n",
    "    keyppoint_1_y_pred = slope_keypoint_1 * y_axis + intercept_keypoint_1\n",
    "    keyppoint_2_y_pred  = slope_keypoint_2 * y_axis + intercept_keypoint_2\n",
    "    keyppoint_3_y_pred  = slope_keypoint_3 * y_axis + intercept_keypoint_3\n",
    "    keyppoint_4_y_pred  = slope_keypoint_4 * y_axis + intercept_keypoint_4\n",
    "    keyppoint_5_y_pred  = slope_keypoint_5 * y_axis + intercept_keypoint_5\n",
    "\n",
    "    pixelabweichung_keypoint_1_y = keypoint_1_y - keyppoint_1_y_pred\n",
    "    pixelabweichung_keypoint_2_y = keypoint_2_y - keyppoint_2_y_pred\n",
    "    pixelabweichung_keypoint_3_y = keypoint_3_y - keyppoint_3_y_pred\n",
    "    pixelabweichung_keypoint_4_y = keypoint_4_y - keyppoint_4_y_pred\n",
    "    pixelabweichung_keypoint_5_y = keypoint_5_y - keyppoint_5_y_pred\n",
    "\n",
    "\n",
    "   # Calculate the standard deviation \n",
    "\n",
    "    std_keypoint_1 = np.std(pixelabweichung_keypoint_1_y) \n",
    "    std_keypoint_2 = np.std(pixelabweichung_keypoint_2_y) \n",
    "    std_keypoint_3 = np.std(pixelabweichung_keypoint_3_y) \n",
    "    std_keypoint_4 = np.std(pixelabweichung_keypoint_4_y) \n",
    "    std_keypoint_5 = np.std(pixelabweichung_keypoint_5_y) \n",
    "\n",
    "\n",
    "    print(\"Standardabweichung Keypoint 1:\", std_keypoint_1) # in Pixel\n",
    "    print(\"Standardabweichung Keypoint 2:\", std_keypoint_2) # in Pixel\n",
    "    print(\"Standardabweichung Keypoint 3:\", std_keypoint_3) # in Pixel\n",
    "    print(\"Standardabweichung Keypoint 4:\", std_keypoint_4) # in Pixel\n",
    "    print(\"Standardabweichung Keypoint 5:\", std_keypoint_5) # in Pixel"
   ]
  },
  {
   "attachments": {},
   "cell_type": "markdown",
   "metadata": {},
   "source": [
    "Standard deviation in y-direction, keypoints in comparison"
   ]
  },
  {
   "cell_type": "code",
   "execution_count": null,
   "metadata": {},
   "outputs": [],
   "source": [
    "if move_in_y == \"0\":\n",
    "    print(\"keine Verschiebung in y-Richtung,daher werden diese Werte nicht berechnet\")\n",
    "else:\n",
    "\n",
    "    gradient_keypoint_1_y = coefficients_keypoint_1[0] # Steigung der Regressionsgeraden\n",
    "    gradient_keypoint_2_y = coefficients_keypoint_2[0] # Steigung der Regressionsgeraden\n",
    "    gradient_keypoint_3_y = coefficients_keypoint_3[0] # Steigung der Regressionsgeraden\n",
    "    gradient_keypoint_4_y = coefficients_keypoint_4[0] # Steigung der Regressionsgeraden\n",
    "    gradient_keypoint_5_y = coefficients_keypoint_5[0] # Steigung der Regressionsgeraden\n",
    "\n",
    "    print(\"Steigung Keypoint 1 [px pro Meter]:\", gradient_keypoint_1_y) # in Pixel pro Meter\n",
    "    print(\"Steigung Keypoint 2 [px pro Meter]:\", gradient_keypoint_2_y) # in Pixel pro Meter\n",
    "    print(\"Steigung Keypoint 3 [px pro Meter]:\", gradient_keypoint_3_y) # in Pixel pro Meter\n",
    "    print(\"Steigung Keypoint 4 [px pro Meter]:\", gradient_keypoint_4_y) # in Pixel pro Meter\n",
    "    print(\"Steigung Keypoint 5 [px pro Meter]:\", gradient_keypoint_5_y) # in Pixel pro Meter\n",
    "    \n",
    "\n",
    "\n",
    "   # Calculate the standard deviation of the slopes with numpy\n",
    "    std_gradient_y = np.std([gradient_keypoint_1_y, gradient_keypoint_2_y, gradient_keypoint_3_y, gradient_keypoint_4_y, gradient_keypoint_5_y])\n",
    "    print(\"Standardabweichung der Steigungen [px pro Meter]: \", std_gradient_y)"
   ]
  },
  {
   "attachments": {},
   "cell_type": "markdown",
   "metadata": {},
   "source": [
    "## ibvs-Regler"
   ]
  },
  {
   "cell_type": "code",
   "execution_count": null,
   "metadata": {},
   "outputs": [],
   "source": [
    "def getStackFeatureJacobian(featurePts,z=1):\n",
    "\n",
    "    Jf_Stack = []\n",
    "    for i in range(len(featurePts)):\n",
    "        u = featurePts[i] [0]\n",
    "        v = featurePts[i] [1]\n",
    "        Jf = np.array([[-1/z, 0, u/z, u*v, -(1 + u**2), v],\n",
    "               [0, -1/z, v/z, 1 + v**2, -v*u, -u]])\n",
    "        \n",
    "        if i ==0:\n",
    "            Jf_Stack = Jf\n",
    "        \n",
    "        else:\n",
    "        \n",
    "            Jf_Stack= np.vstack((Jf_Stack,Jf))\n",
    "\n",
    "    return Jf_Stack"
   ]
  },
  {
   "cell_type": "code",
   "execution_count": null,
   "metadata": {},
   "outputs": [],
   "source": [
    "Jf_Stack = getStackFeatureJacobian(keypoint_pos_alle_bilder[1]) # Jf_Stack immer von aktuellem Bild"
   ]
  },
  {
   "cell_type": "code",
   "execution_count": null,
   "metadata": {},
   "outputs": [],
   "source": [
    "# Gefühlt genau Falsch rum\n",
    "\n",
    "f_act = np.array(keypoint_pos_alle_bilder[1]) # aktuelles Bild\n",
    "\n",
    "f_des = np.array(keypoint_pos_alle_bilder[0]) # Zielbild\n",
    "\n",
    "kIBVS = 0.1 # verstärkung default 0.001"
   ]
  },
  {
   "cell_type": "code",
   "execution_count": null,
   "metadata": {},
   "outputs": [],
   "source": [
    "def ibvsController(Jf, f_act, f_des, kIBVS):\n",
    "    e_u = f_des[:,0] - f_act[:,0]\n",
    "    e_v = f_des[:,1] - f_act[:,1]\n",
    "    j= 1\n",
    "    k= 1\n",
    "    # Build up error array\n",
    "    e = np.zeros((2*len(e_u), 1))\n",
    "    \n",
    "    for i in range(2*len(e_u)):\n",
    "        if (i % 2 == 0):\n",
    "            e[i] = e_v[k-1]\n",
    "            k = k + 1\n",
    "        else:\n",
    "            e[i] = e_u[j-1]\n",
    "            j = j + 1\n",
    "\n",
    "    dp = kIBVS*(np.linalg.inv(Jf.T@Jf))@Jf.T@e\n",
    "    return dp"
   ]
  },
  {
   "cell_type": "code",
   "execution_count": null,
   "metadata": {},
   "outputs": [],
   "source": [
    "dp = ibvsController(Jf_Stack, f_act, f_des, kIBVS)\n",
    "print(dp)"
   ]
  }
 ],
 "metadata": {
  "kernelspec": {
   "display_name": "Python 3",
   "language": "python",
   "name": "python3"
  },
  "language_info": {
   "codemirror_mode": {
    "name": "ipython",
    "version": 3
   },
   "file_extension": ".py",
   "mimetype": "text/x-python",
   "name": "python",
   "nbconvert_exporter": "python",
   "pygments_lexer": "ipython3",
   "version": "3.8.10"
  },
  "vscode": {
   "interpreter": {
    "hash": "e7370f93d1d0cde622a1f8e1c04877d8463912d04d973331ad4851f04de6915a"
   }
  }
 },
 "nbformat": 4,
 "nbformat_minor": 2
}

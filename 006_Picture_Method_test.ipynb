{
 "cells": [
  {
   "cell_type": "code",
   "execution_count": 1,
   "metadata": {},
   "outputs": [],
   "source": [
    "import csv\n",
    "import pandas as pd\n",
    "import numpy as np"
   ]
  },
  {
   "cell_type": "code",
   "execution_count": 2,
   "metadata": {},
   "outputs": [],
   "source": [
    "# configuration\n",
    "increment_x = 0.01 # increment in x direction in m\n",
    "increment_y = 0.01 # increment in y direction in m\n",
    "length_x = 0.3 # length of the x direction in m\n",
    "length_y = 0.35 # length of the y direction in m\n",
    "\n",
    "steps_x = int(length_x/increment_x) # number of steps in x direction\n",
    "steps_y = int(length_y/increment_y) # number of steps in y direction\n",
    "\n",
    "\n",
    "# initalization of the variables\n",
    "pos_x = 0 \n",
    "pos_y = 0\n",
    "\n",
    "# number of digits of the increment\n",
    "increment_y_digits = len(str(increment_y).split('.')[1])\n",
    "increment_x_digits = len(str(increment_x).split('.')[1])\n",
    "\n",
    "\n",
    "filename = 'image_capture.csv'\n",
    "fields = ['x_pos', 'y_pos','picture_name']\n",
    "\n",
    "testfilename = \"picture_\"\n",
    "name_counter = 0\n",
    "\n",
    "\n",
    "with open(filename, 'w', newline='') as csvfile:\n",
    "\n",
    "    csvwriter = csv.writer(csvfile)\n",
    "    csvwriter.writerow(fields)\n",
    "    picturename = testfilename + str(name_counter) + \".jpg\"\n",
    "    name_counter += 1\n",
    "    csvwriter.writerow([pos_x, pos_y,picturename])\n",
    "\n",
    "\n",
    "    for i in range(steps_y):\n",
    "\n",
    "        if i % 2 == 0:  # Links nach Rechts\n",
    "            for j in range(steps_x+1):\n",
    "\n",
    "                if j == steps_x and i == steps_y-1:\n",
    "                    break\n",
    "\n",
    "\n",
    "                if j == steps_x:\n",
    "                    pos_y = pos_y + increment_y\n",
    "                    pos_y = round(pos_y, increment_y_digits)\n",
    "                    i +=1\n",
    "                    picturename = testfilename + str(name_counter) + \".jpg\"\n",
    "                    name_counter += 1\n",
    "                    csvwriter.writerow([pos_x, pos_y,picturename])\n",
    "                    break\n",
    "\n",
    "                    \n",
    "                else:\n",
    "\n",
    "                    pos_x = pos_x + increment_x\n",
    "                    pos_x = round(pos_x, increment_x_digits)\n",
    "                    picturename = testfilename + str(name_counter) + \".jpg\"\n",
    "                    name_counter += 1\n",
    "                    csvwriter.writerow([pos_x, pos_y,picturename])\n",
    "\n",
    "        else:  # Rechts nach Links\n",
    "            for j in range(steps_x+1):\n",
    "\n",
    "                if j == steps_x and i == steps_y-1:\n",
    "                    break\n",
    "\n",
    "\n",
    "                if j == steps_x:\n",
    "                    pos_y = pos_y + increment_y\n",
    "                    pos_y = round(pos_y, increment_y_digits)\n",
    "                    i +=1\n",
    "                    picturename = testfilename + str(name_counter) + \".jpg\"\n",
    "                    name_counter += 1\n",
    "                    csvwriter.writerow([pos_x, pos_y,picturename])\n",
    "                    break\n",
    "\n",
    "\n",
    "                pos_x = pos_x - increment_x\n",
    "                pos_x = round(pos_x, increment_x_digits)\n",
    "                picturename = testfilename + str(name_counter) + \".jpg\"\n",
    "                name_counter += 1\n",
    "                csvwriter.writerow([pos_x, pos_y,picturename])\n",
    "    \n"
   ]
  },
  {
   "attachments": {},
   "cell_type": "markdown",
   "metadata": {},
   "source": [
    "# Image Capture Matrix"
   ]
  },
  {
   "cell_type": "code",
   "execution_count": 3,
   "metadata": {},
   "outputs": [],
   "source": [
    "# CSV-Datei laden\n",
    "data = pd.read_csv('image_capture.csv')\n",
    "\n",
    "# Anzahl der einzigartigen x- und y-Positionen bestimmen\n",
    "x_values = data['x_pos'].unique()\n",
    "y_values = data['y_pos'].unique()\n",
    "\n",
    "# Leere Matrix erstellen\n",
    "matrix = np.empty((len(y_values), len(x_values)), dtype=object)\n",
    "\n",
    "# Schleife über die Zeilen der CSV-Datei\n",
    "for index, row in data.iterrows():\n",
    "    x = row['x_pos']\n",
    "    y = row['y_pos']\n",
    "    picture_name = row['picture_name']\n",
    "    \n",
    "    # Indexe für Matrix-Positionen bestimmen\n",
    "    x_index = np.where(x_values == x)[0][0]\n",
    "    y_index = np.where(y_values == y)[0][0]\n",
    "    \n",
    "    # Bildnamen in Matrix eintragen\n",
    "    matrix[y_index][x_index] = picture_name\n"
   ]
  },
  {
   "attachments": {},
   "cell_type": "markdown",
   "metadata": {},
   "source": [
    "# Image Capture Matrix into csv file"
   ]
  },
  {
   "cell_type": "code",
   "execution_count": 4,
   "metadata": {},
   "outputs": [],
   "source": [
    "with open('image_capture_matrix.csv', mode='w', newline='') as file:\n",
    "    writer = csv.writer(file)\n",
    "    for row in matrix:\n",
    "        writer.writerow(row)"
   ]
  }
 ],
 "metadata": {
  "kernelspec": {
   "display_name": "Python 3",
   "language": "python",
   "name": "python3"
  },
  "language_info": {
   "codemirror_mode": {
    "name": "ipython",
    "version": 3
   },
   "file_extension": ".py",
   "mimetype": "text/x-python",
   "name": "python",
   "nbconvert_exporter": "python",
   "pygments_lexer": "ipython3",
   "version": "3.8.10"
  },
  "orig_nbformat": 4
 },
 "nbformat": 4,
 "nbformat_minor": 2
}

{
 "cells": [
  {
   "attachments": {},
   "cell_type": "markdown",
   "metadata": {},
   "source": [
    "# Import the necessary packages"
   ]
  },
  {
   "cell_type": "code",
   "execution_count": null,
   "metadata": {},
   "outputs": [],
   "source": [
    "import matplotlib.pyplot as plt\n",
    "import csv\n",
    "import numpy as np\n",
    "import re"
   ]
  },
  {
   "attachments": {},
   "cell_type": "markdown",
   "metadata": {},
   "source": [
    "# Imread the csv information"
   ]
  },
  {
   "cell_type": "code",
   "execution_count": null,
   "metadata": {},
   "outputs": [],
   "source": [
    "def read_csv_file(file_path):\n",
    "    servoing_informations = []\n",
    "    counter = 0\n",
    "    with open(file_path, 'r') as csv_file:\n",
    "        csv_reader = csv.reader(csv_file)\n",
    "        next(csv_reader)  # skip header\n",
    "\n",
    "        for row in csv_reader:\n",
    "            if counter == 0:\n",
    "                goal_informations = row\n",
    "            else:\n",
    "                servoing_informations.append(row)\n",
    "            counter += 1\n",
    "    return goal_informations, servoing_informations"
   ]
  },
  {
   "cell_type": "code",
   "execution_count": null,
   "metadata": {},
   "outputs": [],
   "source": [
    "goal_informations, servoing_informations= read_csv_file(\"/home/scco0002/catkin_ws/src/iaps_ur5e_sim/scripts/kovis_moduls/keypoints_servoing.csv\")"
   ]
  },
  {
   "attachments": {},
   "cell_type": "markdown",
   "metadata": {},
   "source": [
    "# Get the Progression of the Keypoints while Servoing"
   ]
  },
  {
   "cell_type": "code",
   "execution_count": null,
   "metadata": {},
   "outputs": [],
   "source": [
    "goal_featurepoints = goal_informations[0]\n",
    "goal_featurepoints = eval(goal_featurepoints)"
   ]
  },
  {
   "cell_type": "code",
   "execution_count": null,
   "metadata": {},
   "outputs": [],
   "source": [
    "# make a list with 64 lists in it\n",
    "pixel_error = []\n",
    "for i in range(len(goal_featurepoints)):\n",
    "    pixel_error.append([])"
   ]
  },
  {
   "cell_type": "code",
   "execution_count": null,
   "metadata": {},
   "outputs": [],
   "source": [
    "for row in servoing_informations:\n",
    "    featurepoints = row[0]\n",
    "    featurepoints = eval(featurepoints)\n",
    "\n",
    "    for i in range(len(featurepoints)):\n",
    "        pixel_error_x = goal_featurepoints[i][0]-featurepoints[i][0]\n",
    "        pixel_error_y = goal_featurepoints[i][1]-featurepoints[i][1]\n",
    "        pixel_error[i].append([pixel_error_x, pixel_error_y])"
   ]
  },
  {
   "cell_type": "code",
   "execution_count": null,
   "metadata": {},
   "outputs": [],
   "source": [
    "keypoint_number = 3 # starts with 0\n",
    "\n",
    "plt.plot(pixel_error[keypoint_number])\n",
    "plt.xlabel('Servoing Step')\n",
    "plt.ylabel('Pixel Error')\n",
    "plt.title('Pixel Error of Keypoint ' + str(keypoint_number))\n",
    "plt.legend(['x-error of Keypoint '+str(keypoint_number), 'y-error of the Keypoint '+str(keypoint_number)], loc='lower center', bbox_to_anchor=(0.5, -0.3), ncol=2)\n",
    "plt.show()\n",
    "\n"
   ]
  },
  {
   "cell_type": "code",
   "execution_count": null,
   "metadata": {},
   "outputs": [],
   "source": [
    "num_keypoints = 4  # Assuming num_keypoints is the total number of keypoints\n",
    "\n",
    "plt.figure(figsize=(10, 6))  # Optional: Set the size of the figure\n",
    "\n",
    "for keypoint_number in range(num_keypoints):  # Assuming num_keypoints is the total number of keypoints\n",
    "    plt.plot(pixel_error[keypoint_number])\n",
    "\n",
    "plt.xlabel('Servoing Step')\n",
    "plt.ylabel('Pixel Error')\n",
    "plt.title('Pixel Error of All Keypoints')\n",
    "\n",
    "# Generate labels for the legend\n",
    "legend_labels = ['Keypoint {}'.format(keypoint_number) for keypoint_number in range(num_keypoints)]\n",
    "\n",
    "#plt.legend(legend_labels, loc='lower center', bbox_to_anchor=(0.5, -0.3), ncol=2)\n",
    "plt.show()\n"
   ]
  },
  {
   "attachments": {},
   "cell_type": "markdown",
   "metadata": {},
   "source": [
    "# Plot the Velocity of the Endeffector while Servoing"
   ]
  },
  {
   "cell_type": "code",
   "execution_count": null,
   "metadata": {},
   "outputs": [],
   "source": [
    "velocity = [] # hole servoing loop\n",
    "\n",
    "for i in range(len(servoing_informations)):\n",
    "    string = servoing_informations[i][3]\n",
    "    clean_string = re.sub(r'[^\\d.eE+-]+', ' ', string)\n",
    "    values = re.findall(r\"[-+]?\\d+(?:\\.\\d+)?(?:[eE][-+]?\\d+)?\", clean_string)\n",
    "    float_values = [float(value) for value in values]\n",
    "    velocity.append(float_values)\n",
    "\n",
    "velocity = list(zip(*velocity))"
   ]
  },
  {
   "cell_type": "code",
   "execution_count": null,
   "metadata": {},
   "outputs": [],
   "source": [
    "fig, (ax1, ax2) = plt.subplots(1, 2, figsize=(30, 10))\n",
    "\n",
    "ax1.plot(velocity[0])\n",
    "ax1.set_title(\"Velocity in x-direction\")\n",
    "ax1.set_xlabel(\"Servoing Step\", fontsize=16)\n",
    "ax1.set_ylabel(\"Velocity in m/s\", fontsize=16)\n",
    "\n",
    "\n",
    "ax2.plot(velocity[1])\n",
    "ax2.set_title(\"Velocity in y-direction\")\n",
    "ax2.set_xlabel(\"Servoing Step\", fontsize=16)\n",
    "ax2.set_ylabel(\"Velocity in m/s\", fontsize=16)\n",
    "\n",
    "plt.suptitle('Twist while Servoing', fontsize=24)\n",
    "plt.show()"
   ]
  },
  {
   "cell_type": "code",
   "execution_count": null,
   "metadata": {},
   "outputs": [],
   "source": [
    "import numpy as np\n",
    "import matplotlib.pyplot as plt\n",
    "\n",
    "fig, (ax1, ax2) = plt.subplots(2, 2, figsize=(30, 20))\n",
    "\n",
    "# Plot 1: Velocity in x-direction\n",
    "ax1[0].plot(velocity[0])\n",
    "ax1[0].set_title(\"Velocity in x-direction\")\n",
    "ax1[0].set_xlabel(\"Servoing Step\")\n",
    "ax1[0].set_ylabel(\"Velocity in m/s\")\n",
    "ax1[0].legend()\n",
    "\n",
    "# Plot 2: Velocity in y-direction\n",
    "ax1[1].plot(velocity[1])\n",
    "ax1[1].set_title(\"Velocity in y-direction\")\n",
    "ax1[1].set_xlabel(\"Servoing Step\")\n",
    "ax1[1].set_ylabel(\"Velocity in m/s\")\n",
    "ax1[1].legend()\n",
    "\n",
    "# Plot 3: Polynomial interpolation for Velocity in x-direction\n",
    "x = np.arange(len(velocity[0]))\n",
    "fit_coeffs_x = np.polyfit(x, velocity[0], deg=3)  # Adjust degree as needed\n",
    "fit_x = np.polyval(fit_coeffs_x, x)\n",
    "ax2[0].plot(x, velocity[0], label=\"Data\")\n",
    "ax2[0].plot(x, fit_x, label=\"Polynomial Fit\")\n",
    "ax2[0].set_title(\"Polynomial Interpolation for Velocity in x-direction\")\n",
    "ax2[0].set_xlabel(\"Servoing Step\")\n",
    "ax2[0].set_ylabel(\"Velocity in m/s\")\n",
    "ax2[0].legend()\n",
    "\n",
    "# Plot 4: Polynomial interpolation for Velocity in y-direction\n",
    "fit_coeffs_y = np.polyfit(x, velocity[1], deg=3)  # Adjust degree as needed\n",
    "fit_y = np.polyval(fit_coeffs_y, x)\n",
    "ax2[1].plot(x, velocity[1], label=\"Data\")\n",
    "ax2[1].plot(x, fit_y, label=\"Polynomial Fit\")\n",
    "ax2[1].set_title(\"Polynomial Interpolation for Velocity in y-direction\")\n",
    "ax2[1].set_xlabel(\"Servoing Step\")\n",
    "ax2[1].set_ylabel(\"Velocity in m/s\")\n",
    "ax2[1].legend()\n",
    "\n",
    "plt.suptitle('Twist while Servoing', fontsize=24)\n",
    "plt.tight_layout()\n",
    "plt.show()\n",
    "\n"
   ]
  },
  {
   "attachments": {},
   "cell_type": "markdown",
   "metadata": {},
   "source": [
    "# "
   ]
  }
 ],
 "metadata": {
  "kernelspec": {
   "display_name": "Python 3",
   "language": "python",
   "name": "python3"
  },
  "language_info": {
   "codemirror_mode": {
    "name": "ipython",
    "version": 3
   },
   "file_extension": ".py",
   "mimetype": "text/x-python",
   "name": "python",
   "nbconvert_exporter": "python",
   "pygments_lexer": "ipython3",
   "version": "3.8.10"
  }
 },
 "nbformat": 4,
 "nbformat_minor": 2
}

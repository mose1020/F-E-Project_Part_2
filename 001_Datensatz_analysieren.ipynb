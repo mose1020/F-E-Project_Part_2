{
 "cells": [
  {
   "cell_type": "code",
   "execution_count": null,
   "metadata": {},
   "outputs": [],
   "source": [
    "import os\n",
    "import numpy as np\n",
    "import csv\n",
    "import shutil\n",
    "import matplotlib.pyplot as plt\n",
    "\n",
    "from PIL import Image\n",
    "from tqdm import tqdm\n",
    "from train_dataset import img_segmention,img_patch\n"
   ]
  },
  {
   "attachments": {},
   "cell_type": "markdown",
   "metadata": {},
   "source": [
    "# Config"
   ]
  },
  {
   "cell_type": "code",
   "execution_count": null,
   "metadata": {},
   "outputs": [],
   "source": [
    "source_folder = \"dataset/mini_testdatensatz\"\n",
    "im_size = [192,192]\n",
    "min_pix = 300\n",
    "max_pix = 450"
   ]
  },
  {
   "attachments": {},
   "cell_type": "markdown",
   "metadata": {},
   "source": [
    "# Clear Dataset I"
   ]
  },
  {
   "cell_type": "code",
   "execution_count": null,
   "metadata": {},
   "outputs": [],
   "source": [
    "# Path to the folder containing image files\n",
    "source_folder_train = source_folder + \"/train\"\n",
    "\n",
    "mask_size = [[],[]]\n",
    "global_mask = np.zeros((im_size[0],im_size[1]))\n",
    "\n",
    "# Iterate through all files in the folder\n",
    "for filename in tqdm(os.listdir(source_folder_train)):\n",
    "    # Check if the file is an image file\n",
    "    if filename.endswith(\".jpg\") or filename.endswith(\".jpeg\") or filename.endswith(\".png\"):\n",
    "        # Process the image\n",
    "        image_path = os.path.join(source_folder_train, filename)\n",
    "        img = Image.open(image_path) # Open the image file\n",
    "        img_resized = img_patch(img, im_size) # Resize the image\n",
    "\n",
    "        # Perform image segmentation on the resized image\n",
    "        try:\n",
    "            _,mask,_ = img_segmention(img_resized)\n",
    "            num_ones = np.count_nonzero(mask)\n",
    "            mask_size[0].append(num_ones)\n",
    "            mask_size[1].append(filename)\n",
    "            global_mask = np.add(global_mask,mask) # Add the mask to the global mask\n",
    "        except:\n",
    "            # If an error occurs during segmentation, delete the image file\n",
    "            os.remove(image_path)\n",
    "            print(\"The image\", filename, \"caused an error during img_segmention and has been deleted\")"
   ]
  },
  {
   "attachments": {},
   "cell_type": "markdown",
   "metadata": {},
   "source": [
    "# Sort the list mask_size"
   ]
  },
  {
   "cell_type": "code",
   "execution_count": null,
   "metadata": {},
   "outputs": [],
   "source": [
    "# Create a list of tuples containing (num_ones, filename) pairs\n",
    "pairs = list(zip(mask_size[0], mask_size[1]))\n",
    "\n",
    "# Sort the list of tuples based on the first element (num_ones)\n",
    "sorted_pairs = sorted(pairs, key=lambda x: x[0])\n",
    "\n",
    "# Extract the sorted lists of num_ones and filenames using list comprehensions\n",
    "sorted_mask_size = [pair[0] for pair in sorted_pairs]\n",
    "sorted_filenames = [pair[1] for pair in sorted_pairs]\n",
    "\n",
    "mask_size_with_filename = [sorted_mask_size, sorted_filenames]"
   ]
  },
  {
   "attachments": {},
   "cell_type": "markdown",
   "metadata": {},
   "source": [
    "# Global Mask --> average of all masks"
   ]
  },
  {
   "cell_type": "code",
   "execution_count": null,
   "metadata": {},
   "outputs": [],
   "source": [
    "max_index = np.argmax(global_mask)\n",
    "# use np.unravel_index to find the row and column indices of the maximum value\n",
    "max_row, max_col = np.unravel_index(max_index, global_mask.shape)\n",
    "print(\"The maximum value of the global mask is\", global_mask[max_row, max_col], \"at row\", max_row, \"and column\", max_col)"
   ]
  },
  {
   "cell_type": "code",
   "execution_count": null,
   "metadata": {},
   "outputs": [],
   "source": [
    "global_mask_adjust = (global_mask - global_mask.min()) * (255 / (global_mask.max() - global_mask.min()))\n",
    "# Save the global mask as an image\n",
    "global_mask_img = Image.fromarray(global_mask_adjust.astype(np.uint8))\n",
    "global_mask_img.save(\"analyse_dataset/global_mask.png\")\n"
   ]
  },
  {
   "attachments": {},
   "cell_type": "markdown",
   "metadata": {},
   "source": [
    "# Write in csv"
   ]
  },
  {
   "cell_type": "code",
   "execution_count": null,
   "metadata": {},
   "outputs": [],
   "source": [
    "with open('analyse_dataset/mask_size.csv', mode='w') as file:\n",
    "    writer = csv.writer(file, delimiter=',', quotechar='\"', quoting=csv.QUOTE_MINIMAL)\n",
    "    writer.writerow(['Mask Size', 'Filename'])\n",
    "    for i in range(len(mask_size_with_filename[0])):\n",
    "        writer.writerow([mask_size_with_filename[0][i], mask_size_with_filename[1][i]])"
   ]
  },
  {
   "attachments": {},
   "cell_type": "markdown",
   "metadata": {},
   "source": [
    "# Mean and Standard Deviation before Clear II"
   ]
  },
  {
   "cell_type": "code",
   "execution_count": null,
   "metadata": {},
   "outputs": [],
   "source": [
    "pixel_counts = []\n",
    "with open('analyse_dataset/mask_size.csv', 'r') as f:\n",
    "    reader = csv.reader(f)\n",
    "    next(reader) \n",
    "    for row in reader:\n",
    "        pixel_counts.append(int(row[0]))\n",
    "\n",
    "mean = np.mean(pixel_counts)\n",
    "std = np.std(pixel_counts)\n",
    "\n",
    "print(\"Mean:\", mean)\n",
    "print(\"Standard Deviation:\", std)"
   ]
  },
  {
   "attachments": {},
   "cell_type": "markdown",
   "metadata": {},
   "source": [
    "# Histogramm before Clear II"
   ]
  },
  {
   "cell_type": "code",
   "execution_count": null,
   "metadata": {},
   "outputs": [],
   "source": [
    "# 1. Lesen Sie die CSV-Datei ein und speichern Sie die Anzahl der Pixel und den Dateinamen in separaten Listen.\n",
    "pixel_counts = []\n",
    "filenames = []\n",
    "with open('analyse_dataset/mask_size.csv', 'r') as f:\n",
    "    reader = csv.reader(f)\n",
    "    next(reader) \n",
    "    for row in reader:\n",
    "        pixel_counts.append(int(row[0]))\n",
    "        filenames.append(row[1])\n",
    "\n",
    "\n",
    "# 2. Erstellen Sie eine Liste, die alle einzigartigen Anzahlen von Pixeln enthält.\n",
    "unique_counts = list(set(pixel_counts))\n",
    "\n",
    "# 3. Verwenden Sie eine Schleife, um durch jede einzigartige Anzahl von Pixeln in der Liste zu iterieren.\n",
    "histogram_data = []\n",
    "for count in unique_counts:\n",
    "    # 4. Zählen Sie die Anzahl der Bilder, die die aktuelle Anzahl von Pixeln aufweisen.\n",
    "    num_images = 0\n",
    "    for i in range(len(pixel_counts)):\n",
    "        if pixel_counts[i] == count:\n",
    "            num_images += 1\n",
    "    # 5. Fügen Sie die Anzahl der Bilder mit der aktuellen Anzahl von Pixeln zu einer neuen Liste hinzu.\n",
    "    histogram_data.append(num_images)\n",
    "\n",
    "# 6. Erstellen Sie das Histogramm der Anzahl der Bilder mit verschiedenen Pixelanzahlen.\n",
    "# Erstellen des Histogramms wie zuvor\n",
    "unique_counts = list(set(pixel_counts))\n",
    "histogram_data = [pixel_counts.count(count) for count in unique_counts]\n",
    "plt.hist(pixel_counts, bins=len(unique_counts))\n",
    "plt.axvline(x=min_pix, color='r', linestyle='--')\n",
    "plt.axvline(x=max_pix, color='r', linestyle='--')\n",
    "plt.xlabel('Anzahl der Pixel')\n",
    "plt.ylabel('Anzahl der Bilder')\n",
    "plt.show()"
   ]
  },
  {
   "cell_type": "code",
   "execution_count": null,
   "metadata": {},
   "outputs": [],
   "source": [
    "# Öffnen der CSV-Datei und Lesen der Daten\n",
    "pixel_counts = []\n",
    "\n",
    "with open('analyse_dataset/mask_size.csv', 'r') as f:\n",
    "    reader = csv.reader(f)\n",
    "    next(reader)  # Überspringen der Kopfzeile\n",
    "    pixel_counts = [int(row[0]) for row in reader]\n",
    "\n",
    "# Initialisierung der Zählvariablen\n",
    "below = 0\n",
    "above = 0\n",
    "\n",
    "# Schleife durch die Liste und Zählen der Werte\n",
    "for count in pixel_counts:\n",
    "    if count < min_pix:\n",
    "        below += 1\n",
    "    elif count > max_pix:\n",
    "        above += 1\n",
    "\n",
    "# Ausgabe der Ergebnisse\n",
    "print(\"Anzahl der Werte mit weniger als\",str(min_pix),\"Pixel:\", below)\n",
    "print(\"Anzahl der Werte mit weniger als\",str(max_pix),\"Pixel:\", above)"
   ]
  },
  {
   "attachments": {},
   "cell_type": "markdown",
   "metadata": {},
   "source": [
    "# Copy Dataset"
   ]
  },
  {
   "cell_type": "code",
   "execution_count": null,
   "metadata": {},
   "outputs": [],
   "source": [
    "destination_folder = source_folder + \"_cleared\"\n",
    "\n",
    "if os.path.exists(destination_folder):\n",
    "    shutil.rmtree(destination_folder)\n",
    "\n",
    "shutil.copytree(source_folder, destination_folder)\n",
    "    "
   ]
  },
  {
   "attachments": {},
   "cell_type": "markdown",
   "metadata": {},
   "source": [
    "# Clear II (only Copy Dataset is cleared)"
   ]
  },
  {
   "cell_type": "code",
   "execution_count": null,
   "metadata": {},
   "outputs": [],
   "source": [
    "pixel_counts = []\n",
    "filenames = []\n",
    "\n",
    "with open('analyse_dataset/mask_size.csv', 'r') as inp, open('analyse_dataset/mask_size_cleared.csv', 'w') as out:\n",
    "    writer = csv.writer(out)\n",
    "    reader = csv.reader(inp)\n",
    "    next(reader) \n",
    "    for row in reader:\n",
    "        if int(row[0]) < min_pix:\n",
    "            try:\n",
    "                os.remove(os.path.join(destination_folder,\"train\",row[1]))\n",
    "                print(\"The mask oft the image\", str(row[1]), \"was too small. The image has been deleted\")\n",
    "            except:\n",
    "                print(\"The dataset has already been cleared\")\n",
    "        elif int(row[0]) > max_pix:\n",
    "            try:\n",
    "                os.remove(os.path.join(destination_folder,\"train\",row[1]))\n",
    "                print(\"The mask oft the image\", str(row[1]), \"was too large. The image has been deleted\")\n",
    "            except:\n",
    "                 print(\"The dataset has already been cleared\")\n",
    "        else:\n",
    "            writer.writerow(row)\n"
   ]
  },
  {
   "attachments": {},
   "cell_type": "markdown",
   "metadata": {},
   "source": [
    "# Mean and Standard Deviation after Clear II"
   ]
  },
  {
   "cell_type": "code",
   "execution_count": null,
   "metadata": {},
   "outputs": [],
   "source": [
    "pixel_counts = []\n",
    "with open('analyse_dataset/mask_size_cleared.csv', 'r') as f:\n",
    "    reader = csv.reader(f)\n",
    "    next(reader) \n",
    "    for row in reader:\n",
    "        pixel_counts.append(int(row[0]))\n",
    "\n",
    "mean = np.mean(pixel_counts)\n",
    "std = np.std(pixel_counts)\n",
    "\n",
    "print(\"Mean:\", mean)\n",
    "print(\"Standard Deviation:\", std)"
   ]
  },
  {
   "attachments": {},
   "cell_type": "markdown",
   "metadata": {},
   "source": [
    "# Histogramm after Clear II"
   ]
  },
  {
   "cell_type": "code",
   "execution_count": null,
   "metadata": {},
   "outputs": [],
   "source": [
    "# 1. Lesen Sie die CSV-Datei ein und speichern Sie die Anzahl der Pixel und den Dateinamen in separaten Listen.\n",
    "pixel_counts = []\n",
    "filenames = []\n",
    "with open('analyse_dataset/mask_size_cleared.csv', 'r') as f:\n",
    "    reader = csv.reader(f)\n",
    "    next(reader) \n",
    "    for row in reader:\n",
    "        pixel_counts.append(int(row[0]))\n",
    "        filenames.append(row[1])\n",
    "\n",
    "\n",
    "# 2. Erstellen Sie eine Liste, die alle einzigartigen Anzahlen von Pixeln enthält.\n",
    "unique_counts = list(set(pixel_counts))\n",
    "\n",
    "# 3. Verwenden Sie eine Schleife, um durch jede einzigartige Anzahl von Pixeln in der Liste zu iterieren.\n",
    "histogram_data = []\n",
    "for count in unique_counts:\n",
    "    # 4. Zählen Sie die Anzahl der Bilder, die die aktuelle Anzahl von Pixeln aufweisen.\n",
    "    num_images = 0\n",
    "    for i in range(len(pixel_counts)):\n",
    "        if pixel_counts[i] == count:\n",
    "            num_images += 1\n",
    "    # 5. Fügen Sie die Anzahl der Bilder mit der aktuellen Anzahl von Pixeln zu einer neuen Liste hinzu.\n",
    "    histogram_data.append(num_images)\n",
    "\n",
    "# 6. Erstellen Sie das Histogramm der Anzahl der Bilder mit verschiedenen Pixelanzahlen.\n",
    "# Erstellen des Histogramms wie zuvor\n",
    "unique_counts = list(set(pixel_counts))\n",
    "histogram_data = [pixel_counts.count(count) for count in unique_counts]\n",
    "plt.hist(pixel_counts, bins=len(unique_counts))\n",
    "plt.axvline(x=min_pix, color='r', linestyle='--')\n",
    "plt.axvline(x=max_pix, color='r', linestyle='--')\n",
    "plt.xlabel('Anzahl der Pixel')\n",
    "plt.ylabel('Anzahl der Bilder')\n",
    "plt.show()"
   ]
  },
  {
   "attachments": {},
   "cell_type": "markdown",
   "metadata": {},
   "source": [
    "# Testmask --> only one mask to test images"
   ]
  },
  {
   "cell_type": "code",
   "execution_count": null,
   "metadata": {},
   "outputs": [],
   "source": [
    "path = 'dataset/mini_testdatensatz_cleared/train/picture_1.png'\n",
    "img = Image.open(path) # Open the image file\n",
    "im_size= [192,192]\n",
    "img_resized = img_patch(img, im_size) # Resize the image\n",
    "\n",
    "# Perform image segmentation on the resized image\n",
    "_,mask,_ = img_segmention(img_resized)\n",
    "mask[mask == 1] = 255\n",
    "\n",
    "\n",
    "mask_img = Image.fromarray(mask.astype(np.uint8))\n",
    "mask_img.save(\"analyse_dataset/test_mask_img.png\")\n",
    "\n",
    "img_resized_np = np.array(img_resized)\n",
    "cut = np.zeros_like(img_resized_np)\n",
    "cut[mask != 0] = img_resized_np[mask != 0]\n",
    "cut_img = Image.fromarray(cut.astype(np.uint8))\n",
    "cut_img.save(\"analyse_dataset/test_cut_img.png\")\n"
   ]
  }
 ],
 "metadata": {
  "kernelspec": {
   "display_name": "deepl_env",
   "language": "python",
   "name": "python3"
  },
  "language_info": {
   "codemirror_mode": {
    "name": "ipython",
    "version": 3
   },
   "file_extension": ".py",
   "mimetype": "text/x-python",
   "name": "python",
   "nbconvert_exporter": "python",
   "pygments_lexer": "ipython3",
   "version": "3.8.10"
  }
 },
 "nbformat": 4,
 "nbformat_minor": 2
}

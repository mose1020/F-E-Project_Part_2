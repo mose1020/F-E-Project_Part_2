{
 "cells": [
  {
   "cell_type": "code",
   "execution_count": null,
   "metadata": {},
   "outputs": [],
   "source": [
    "import matplotlib.pyplot as plt\n",
    "import csv"
   ]
  },
  {
   "cell_type": "code",
   "execution_count": null,
   "metadata": {},
   "outputs": [],
   "source": [
    "def read_csv_file(file_path):\n",
    "    rows = []\n",
    "    with open(file_path, 'r') as csv_file:\n",
    "        csv_reader = csv.reader(csv_file)\n",
    "        header = next(csv_reader)  # Read the header row\n",
    "        for row in csv_reader:\n",
    "            rows.append(row)\n",
    "    return header, rows"
   ]
  },
  {
   "cell_type": "code",
   "execution_count": null,
   "metadata": {},
   "outputs": [],
   "source": [
    "# Call the function to read the CSV file and get the rows in a list\n",
    "goal_featurepoints, servoing_steps = read_csv_file(\"servoing_csv/keypoints_servoing_10000.csv\")\n",
    "\n",
    "goal_featurepoints = goal_featurepoints[0]\n",
    "goal_featurepoints = eval(goal_featurepoints)"
   ]
  },
  {
   "cell_type": "code",
   "execution_count": null,
   "metadata": {},
   "outputs": [],
   "source": [
    "# make a list with 64 lists in it\n",
    "pixel_error = []\n",
    "for i in range(len(goal_featurepoints)):\n",
    "    pixel_error.append([])\n"
   ]
  },
  {
   "cell_type": "code",
   "execution_count": null,
   "metadata": {},
   "outputs": [],
   "source": [
    "for row in servoing_steps:\n",
    "    featurepoints = row[0]\n",
    "    featurepoints = eval(featurepoints)\n",
    "\n",
    "    for i in range(len(featurepoints)):\n",
    "        pixel_error_x = goal_featurepoints[i][0]-featurepoints[i][0]\n",
    "        pixel_error_y = goal_featurepoints[i][1]-featurepoints[i][1]\n",
    "        pixel_error[i].append([pixel_error_x, pixel_error_y])\n",
    "        "
   ]
  },
  {
   "cell_type": "code",
   "execution_count": null,
   "metadata": {},
   "outputs": [],
   "source": [
    "# mean pixel error\n",
    "mean_pixel_error = []\n",
    "for i in range(len(pixel_error)):\n",
    "    mean_pixel_error.append([])\n",
    "    mean_pixel_error[i] = [sum(x)/len(x) for x in zip(*pixel_error[i])]\n",
    "\n",
    "keypoints_selected = []\n",
    "\n",
    "\n",
    "for i in range(len(mean_pixel_error)):\n",
    "    if abs(mean_pixel_error[i][0]) > 1 or abs(mean_pixel_error[i][1]) > 1:\n",
    "        keypoints_selected.append(i)\n",
    "\n",
    "print(keypoints_selected)"
   ]
  },
  {
   "cell_type": "code",
   "execution_count": null,
   "metadata": {},
   "outputs": [],
   "source": [
    "keypoint_number = 40# starts with 0\n",
    "\n",
    "plt.plot(pixel_error[keypoint_number])\n",
    "plt.legend(['x', 'y'], loc='lower right')\n"
   ]
  }
 ],
 "metadata": {
  "kernelspec": {
   "display_name": "Python 3",
   "language": "python",
   "name": "python3"
  },
  "language_info": {
   "codemirror_mode": {
    "name": "ipython",
    "version": 3
   },
   "file_extension": ".py",
   "mimetype": "text/x-python",
   "name": "python",
   "nbconvert_exporter": "python",
   "pygments_lexer": "ipython3",
   "version": "3.8.10"
  }
 },
 "nbformat": 4,
 "nbformat_minor": 2
}

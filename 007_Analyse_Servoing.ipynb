{
 "cells": [
  {
   "cell_type": "code",
   "execution_count": null,
   "metadata": {},
   "outputs": [],
   "source": [
    "import matplotlib.pyplot as plt\n",
    "import csv"
   ]
  },
  {
   "cell_type": "code",
   "execution_count": null,
   "metadata": {},
   "outputs": [],
   "source": [
    "def read_csv_file(file_path):\n",
    "    rows = []\n",
    "    with open(file_path, 'r') as csv_file:\n",
    "        csv_reader = csv.reader(csv_file)\n",
    "        header = next(csv_reader)  # Read the header row\n",
    "        for row in csv_reader:\n",
    "            rows.append(row)\n",
    "    return header, rows"
   ]
  },
  {
   "cell_type": "code",
   "execution_count": null,
   "metadata": {},
   "outputs": [],
   "source": [
    "# Call the function to read the CSV file and get the rows in a list\n",
    "goal_featurepoints, servoing_steps = read_csv_file(\"servoing_csv/keypoints_servoing_x_005.csv\")\n",
    "\n",
    "goal_featurepoints = goal_featurepoints[0]\n",
    "goal_featurepoints = eval(goal_featurepoints)"
   ]
  },
  {
   "cell_type": "code",
   "execution_count": null,
   "metadata": {},
   "outputs": [],
   "source": [
    "# make a list with 64 lists in it\n",
    "pixel_error = []\n",
    "for i in range(len(goal_featurepoints)):\n",
    "    pixel_error.append([])\n"
   ]
  },
  {
   "cell_type": "code",
   "execution_count": null,
   "metadata": {},
   "outputs": [],
   "source": [
    "for row in servoing_steps:\n",
    "    featurepoints = row[0]\n",
    "    featurepoints = eval(featurepoints)\n",
    "\n",
    "    for i in range(len(featurepoints)):\n",
    "        pixel_error_x = goal_featurepoints[i][0]-featurepoints[i][0]\n",
    "        pixel_error_y = goal_featurepoints[i][1]-featurepoints[i][1]\n",
    "        pixel_error[i].append([pixel_error_x, pixel_error_y])"
   ]
  },
  {
   "cell_type": "code",
   "execution_count": null,
   "metadata": {},
   "outputs": [],
   "source": [
    "keypoint_number = 4 # starts with 0\n",
    "\n",
    "plt.plot(pixel_error[keypoint_number])\n",
    "plt.legend(['x', 'y'], loc='lower right')\n"
   ]
  }
 ],
 "metadata": {
  "kernelspec": {
   "display_name": "Python 3",
   "language": "python",
   "name": "python3"
  },
  "language_info": {
   "codemirror_mode": {
    "name": "ipython",
    "version": 3
   },
   "file_extension": ".py",
   "mimetype": "text/x-python",
   "name": "python",
   "nbconvert_exporter": "python",
   "pygments_lexer": "ipython3",
   "version": "3.10.6"
  }
 },
 "nbformat": 4,
 "nbformat_minor": 2
}

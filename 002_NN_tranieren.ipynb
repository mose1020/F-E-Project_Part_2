{
 "cells": [
  {
   "attachments": {},
   "cell_type": "markdown",
   "metadata": {},
   "source": [
    "### Import"
   ]
  },
  {
   "cell_type": "code",
   "execution_count": null,
   "metadata": {},
   "outputs": [],
   "source": [
    "import os\n",
    "import sys\n",
    "import yaml\n",
    "import numpy as np\n",
    "from PIL import Image\n",
    "from tqdm import trange, tqdm\n",
    "from collections import namedtuple\n",
    "\n",
    "import torch\n",
    "import torch.backends.cudnn as cudnn\n",
    "import torch.optim\n",
    "import torch.utils.data.dataloader as loader\n",
    "import torch.nn.functional as F\n",
    "import matplotlib.pyplot as plt\n",
    "\n",
    "from train_dataset import DataServoStereo\n",
    "import train_model as model\n",
    "\n"
   ]
  },
  {
   "attachments": {},
   "cell_type": "markdown",
   "metadata": {},
   "source": [
    "### Training on GPU or CPU?"
   ]
  },
  {
   "cell_type": "code",
   "execution_count": null,
   "metadata": {},
   "outputs": [],
   "source": [
    "with open(\"cfg/train_real_images.yaml\", \"r\") as f:\n",
    "    config = yaml.safe_load(f)\n",
    "\n",
    "gpu_enabled = config[\"gpu\"]\n",
    "\n",
    "if gpu_enabled:\n",
    "    print(\"Training on GPU\")\n",
    "else:\n",
    "    print(\"Training on CPU\")"
   ]
  },
  {
   "attachments": {},
   "cell_type": "markdown",
   "metadata": {},
   "source": [
    "### Load configuration"
   ]
  },
  {
   "cell_type": "code",
   "execution_count": null,
   "metadata": {},
   "outputs": [],
   "source": [
    "arg = yaml.load(open(\"cfg/train_real_images.yaml\", 'r'), yaml.Loader)\n",
    "arg = namedtuple('Arg', arg.keys())(**arg)\n"
   ]
  },
  {
   "attachments": {},
   "cell_type": "markdown",
   "metadata": {},
   "source": [
    "### Start GPU"
   ]
  },
  {
   "cell_type": "code",
   "execution_count": null,
   "metadata": {},
   "outputs": [],
   "source": [
    "if gpu_enabled == True:\n",
    "    cudnn.enabled = True\n",
    "    cudnn.benchmark = True\n",
    "    cudnn.deterministic = True"
   ]
  },
  {
   "cell_type": "code",
   "execution_count": null,
   "metadata": {},
   "outputs": [],
   "source": [
    "torch.cuda.empty_cache() "
   ]
  },
  {
   "cell_type": "code",
   "execution_count": null,
   "metadata": {},
   "outputs": [],
   "source": [
    "torch.manual_seed(0)\n",
    "np.random.seed(0)"
   ]
  },
  {
   "attachments": {},
   "cell_type": "markdown",
   "metadata": {},
   "source": [
    "### Initialise neural network"
   ]
  },
  {
   "cell_type": "code",
   "execution_count": null,
   "metadata": {},
   "outputs": [],
   "source": [
    "kper = model.KeyPointGaussian(arg.sigma_kp[0], (arg.num_keypoint, *arg.im_size[1]))\n",
    "if gpu_enabled ==True:\n",
    "    enc = model.Encoder(arg.num_input, arg.num_keypoint, arg.growth_rate[0], arg.blk_cfg_enc, arg.drop_rate, kper).cuda()\n",
    "else:   \n",
    "    enc = model.Encoder(arg.num_input, arg.num_keypoint, arg.growth_rate[0], arg.blk_cfg_enc, arg.drop_rate, kper)\n"
   ]
  },
  {
   "cell_type": "code",
   "execution_count": null,
   "metadata": {},
   "outputs": [],
   "source": [
    "optim = torch.optim.Adam([{'params': enc.parameters(),\n",
    "                           'weight_decay': arg.wd[0]}],\n",
    "                         lr=arg.lr, amsgrad=True)"
   ]
  },
  {
   "attachments": {},
   "cell_type": "markdown",
   "metadata": {},
   "source": [
    "### Function to adjust the learning rate"
   ]
  },
  {
   "cell_type": "code",
   "execution_count": null,
   "metadata": {},
   "outputs": [],
   "source": [
    "def adjust_lr(ep, ep_train, bn=True):\n",
    "    # Check the value of the argument lr_anne and set the learning rate accordingly\n",
    "    if arg.lr_anne == 'step':\n",
    "        # Use a step function to adjust the learning rate\n",
    "        a_lr = 0.4 ** ((ep > (0.3 * ep_train)) +\n",
    "                       (ep > (0.6 * ep_train)) +\n",
    "                       (ep > (0.9 * ep_train)))\n",
    "    elif arg.lr_anne == 'cosine':\n",
    "        # Use a cosine function to adjust the learning rate\n",
    "        a_lr = (np.cos(np.pi * ep / ep_train) + 1) / 2\n",
    "    elif arg.lr_anne == 'repeat':\n",
    "        # Use a repeated cosine function to adjust the learning rate\n",
    "        partition = [0, 0.15, 0.30, 0.45, 0.6, 0.8, 1.0]\n",
    "        par = int(np.digitize(ep * 1. / ep_train, partition))\n",
    "        T = (partition[par] - partition[par - 1]) * ep_train\n",
    "        t = ep - partition[par - 1] * ep_train\n",
    "        a_lr = 0.5 * (1 + np.cos(np.pi * t / T))\n",
    "        a_lr *= 1 - partition[par - 1]\n",
    "    else:\n",
    "        # Use a constant learning rate\n",
    "        a_lr = 1\n",
    "\n",
    "    # Set the learning rate for all parameter groups in the optimizer\n",
    "    for param_group in optim.param_groups:\n",
    "        param_group['lr'] = max(a_lr, 0.01) * arg.lr\n",
    "\n",
    "    # If bn is True, adjust the momentum of batch normalization layers\n",
    "    if bn:\n",
    "        def fn(m):\n",
    "            if isinstance(m, (torch.nn.BatchNorm1d, torch.nn.BatchNorm2d, torch.nn.BatchNorm3d)):\n",
    "                # Set the momentum of batch normalization layers to the current learning rate\n",
    "                m.momentum = min(max(a_lr, 0.01), 0.9)\n",
    "        enc.apply(fn)"
   ]
  },
  {
   "attachments": {},
   "cell_type": "markdown",
   "metadata": {},
   "source": [
    "### definition of the training_function "
   ]
  },
  {
   "cell_type": "code",
   "execution_count": null,
   "metadata": {},
   "outputs": [],
   "source": [
    "def train(ep, loader_train):\n",
    "    \n",
    "    # iterate over the training data loader\n",
    "    #for i, (inL0,outS_Tensor,outS) in enumerate(loader_train):\n",
    "    lossC_epoch = []\n",
    "    lossI_epoch = []\n",
    "\n",
    "    for i, (img,plug_mask_tensor,plug_mask) in enumerate(loader_train):\n",
    "\n",
    "        # enable GPU if enabled in arguments\n",
    "        if gpu_enabled == True:\n",
    "            img = img.cuda()\n",
    "            plug_mask_tensor = plug_mask_tensor.cuda()\n",
    "\n",
    "        # calculate the iteration count and total iterations for the current epoch\n",
    "        ith = ep * len(loader_train.dataset) // arg.batch_size + i, \\\n",
    "            arg.ep_train * len(loader_train.dataset) // arg.batch_size\n",
    "        \n",
    "        # update learning rate based on the scheduler and current iteration count\n",
    "        adjust_lr(*ith)\n",
    "\n",
    "        # update kp sigma\n",
    "        kper.sigma = min(2.0 * ith[0] / ith[1], 1) * (arg.sigma_kp[1] - arg.sigma_kp[0]) + arg.sigma_kp[0]\n",
    "\n",
    "        # generate key points for the input image\n",
    "        keypL0 = enc(img)\n",
    "\n",
    "        # calculate the concentration loss, which concentrates feature points around 2.5the edges of the object\n",
    "        # (not on the object itself due to the lack of object detection)\n",
    "        lossC = None\n",
    "        if arg.concentrate != 0:\n",
    "            lossC = []\n",
    "            for idx_i in range(0, arg.num_keypoint - 1):\n",
    "                for idx_j in range(idx_i + 1, arg.num_keypoint):\n",
    "                    distL = torch.norm(torch.cat(\n",
    "                        ((keypL0[0][:, idx_i] - keypL0[0][:, idx_j]).unsqueeze(1),\n",
    "                        (keypL0[0][:, idx_i + arg.num_keypoint] - keypL0[0][:, idx_j + arg.num_keypoint]).unsqueeze(1)),\n",
    "                        dim=1), dim=1)\n",
    "                    lossC.append(distL.mul(arg.concentrate).exp().mul(keypL0[0][:, idx_i + 2 * arg.num_keypoint] *\n",
    "                                                                    keypL0[0][:, idx_j + 2 * arg.num_keypoint]).mean())\n",
    "            lossC = sum(lossC) / len(lossC)\n",
    "        \n",
    "        # calculate the inside loss, which forces the key points to be within the object boundaries\n",
    "        lossI = None\n",
    "        if arg.inside != 0:\n",
    "            inoutL = plug_mask_tensor.eq(0).float()\n",
    "            inoutL = F.interpolate(inoutL.unsqueeze(1), size=keypL0[1].size()[2:], align_corners=False, mode='bilinear')\n",
    "            lossI = arg.inside * (inoutL.mul(keypL0[1]).mean()) \n",
    "\n",
    "        # set the gradients of all optimizer variables to zero\n",
    "        optim.zero_grad()\n",
    "\n",
    "        # calculate and backpropagate the total loss\n",
    "        sum([l for l in [lossC,lossI] if l is not None]).backward()\n",
    "\n",
    "        # update the optimizer variables\n",
    "        optim.step()\n",
    "\n",
    "        # print the loss for the current epoch\n",
    "        if i == 0:\n",
    "            if arg.concentrate == 0:\n",
    "                tqdm.write('ep: {}, loss_I: {:.5f}  '.format(ep,lossI.item()))\n",
    "                lossC_epoch.append(lossC.item())\n",
    "\n",
    "            elif arg.inside == 0:\n",
    "                tqdm.write('ep: {}, loss_C: {:.5f}  '.format(ep,lossC.item()))\n",
    "                lossI_epoch.append(lossI.item())\n",
    "                \n",
    "            else:\n",
    "                tqdm.write('ep: {}, loss_C loss_I: {:.5f} {:.5f} '.format(ep,lossC.item(), lossI.item()))\n",
    "                lossC_epoch.append(lossC.item())\n",
    "                lossI_epoch.append(lossI.item())\n",
    "\n",
    "    return lossC_epoch, lossI_epoch\n"
   ]
  },
  {
   "attachments": {},
   "cell_type": "markdown",
   "metadata": {},
   "source": [
    "### Function to save the model"
   ]
  },
  {
   "cell_type": "code",
   "execution_count": null,
   "metadata": {},
   "outputs": [],
   "source": [
    "def save_checkpoint(base_dir):\n",
    "    state = {'enc_state_dict': enc.state_dict()}\n",
    "    torch.save(state, os.path.join(base_dir, 'ckpt.pth'))\n",
    "    print('checkpoint saved.')"
   ]
  },
  {
   "attachments": {},
   "cell_type": "markdown",
   "metadata": {},
   "source": [
    "### Main-function for the training"
   ]
  },
  {
   "cell_type": "code",
   "execution_count": null,
   "metadata": {},
   "outputs": [],
   "source": [
    "def main_train():\n",
    "    loss = [[],[]]\n",
    "\n",
    "    if arg.task in ['full']:\n",
    "        # create directory to save data\n",
    "        if not os.path.exists(arg.dir_base):\n",
    "            os.makedirs(arg.dir_base)\n",
    "        # copy the configuration file to the created directory\n",
    "        os.system('cp {} {}'.format(\"cfg/train_real_images.yaml\" ,os.path.join(arg.dir_base, 'servo.yaml')))\n",
    "\n",
    "        # check if grayscale or RGB images are used for training and load the corresponding dataset\n",
    "        if arg.num_input == 1:\n",
    "            print(\"Training with grayscale images\")\n",
    "            ds_train = DataServoStereo(arg,grey=True)\n",
    "        else:\n",
    "            print(\"Training with RGB images\")\n",
    "            ds_train = DataServoStereo(arg,grey=False)\n",
    "\n",
    "        # set parameters for the data loader\n",
    "        data_param = {'pin_memory': False, 'shuffle': True, 'batch_size': arg.batch_size, 'drop_last': True,\n",
    "                      'num_workers': 8, 'worker_init_fn': lambda _: np.random.seed(ord(os.urandom(1)))}\n",
    "        \n",
    "        # create data loader for training dataset\n",
    "        loader_train = loader.DataLoader(ds_train, **data_param)\n",
    "\n",
    "        # set the encoder model to training mode\n",
    "        enc.train()\n",
    "        print('training...')\n",
    "        # train for each epoch\n",
    "        for ep in trange(arg.ep_train):\n",
    "            lossC_epoch, lossI_epoch = train(ep, loader_train)\n",
    "        \n",
    "            loss[0].extend(lossC_epoch)\n",
    "            loss[1].extend(lossI_epoch)\n",
    "\n",
    "        # save the trained model checkpoint\n",
    "        save_checkpoint(arg.dir_base)\n",
    "\n",
    "        return loss\n"
   ]
  },
  {
   "cell_type": "code",
   "execution_count": null,
   "metadata": {},
   "outputs": [],
   "source": [
    "# Execute \n",
    "loss = main_train()"
   ]
  },
  {
   "cell_type": "code",
   "execution_count": null,
   "metadata": {},
   "outputs": [],
   "source": [
    "plt.figure()\n",
    "plt.plot(loss[0], label='Concentration Loss')\n",
    "plt.plot(loss[1], label='Inside Loss')\n",
    "plt.xlabel('Epoch')\n",
    "plt.ylabel('Loss')\n",
    "plt.legend()\n",
    "plt.show()\n"
   ]
  }
 ],
 "metadata": {
  "kernelspec": {
   "display_name": "Python 3",
   "language": "python",
   "name": "python3"
  },
  "language_info": {
   "codemirror_mode": {
    "name": "ipython",
    "version": 3
   },
   "file_extension": ".py",
   "mimetype": "text/x-python",
   "name": "python",
   "nbconvert_exporter": "python",
   "pygments_lexer": "ipython3",
   "version": "3.8.10"
  },
  "vscode": {
   "interpreter": {
    "hash": "e7370f93d1d0cde622a1f8e1c04877d8463912d04d973331ad4851f04de6915a"
   }
  }
 },
 "nbformat": 4,
 "nbformat_minor": 2
}

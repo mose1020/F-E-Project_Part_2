{
 "cells": [
  {
   "cell_type": "code",
   "execution_count": null,
   "metadata": {},
   "outputs": [],
   "source": [
    "import cv2\n",
    "from PIL import Image\n",
    "from train_dataset import img_patch,img_segmention\n",
    "import numpy as np\n",
    "import os"
   ]
  },
  {
   "cell_type": "code",
   "execution_count": null,
   "metadata": {},
   "outputs": [],
   "source": [
    "def Sift(img,features,mask_on,counter,safe_picture=True):\n",
    "\n",
    "    keypoint_pos_ein_bild = []\n",
    "\n",
    "    #Pillow-img\n",
    "    img = img_patch(img,[192,192])\n",
    "    _,mask,_ = img_segmention(img)\n",
    "    \n",
    "    gray = img.convert('L')\n",
    "\n",
    "    # Numpy-img\n",
    "    img_numpy = np.array(img)\n",
    "    gray_numpy =  np.array(gray)\n",
    "\n",
    "    # OpenCV-img\n",
    "    img_cv2 = cv2.cvtColor(img_numpy, cv2.COLOR_RGB2BGR)\n",
    "    gray_cv2 = cv2.cvtColor(gray_numpy, cv2.COLOR_GRAY2BGR)\n",
    "\n",
    "    # Initialize the SIFT detector with custom parameters\n",
    "    sift = cv2.SIFT_create(nfeatures=features)\n",
    "\n",
    "    # Detect keypoints in the image\n",
    "    if mask_on == True:\n",
    "        keypoints = sift.detect(gray_cv2, mask = mask)\n",
    "    else:\n",
    "        keypoints = sift.detect(gray_cv2)\n",
    "\n",
    "\n",
    "    for kp in keypoints:\n",
    "        keypoint_pos_ein_bild.append(kp.pt)\n",
    "    \n",
    "    #keypoint_pos_ein_bild = [list(t) for t in keypoint_pos_ein_bild]\n",
    "    keypoint_pos_ein_bild = [num for tup in keypoint_pos_ein_bild for num in tup]\n",
    "\n",
    "    # Draw the keypoints on the image\n",
    "    keypoints_image = cv2.drawKeypoints(img_cv2, keypoints, None, flags=0)\n",
    "    mask[mask == 1] = 255\n",
    "    mask_image = mask\n",
    "    \n",
    "\n",
    "    if safe_picture == True:\n",
    "\n",
    "        fname = \"sift_\" + str(counter) + \".png\"\n",
    "        fname_mask = \"sift_\" + str(counter) + \"mask.png\"\n",
    "        cv2.imwrite(os.path.join(\"sift_images\", fname), keypoints_image)\n",
    "        cv2.imwrite(os.path.join(\"sift_images\", fname_mask), mask_image)\n",
    "\n",
    "    # Display the keypoints image\n",
    "\n",
    "    return keypoint_pos_ein_bild"
   ]
  },
  {
   "cell_type": "code",
   "execution_count": null,
   "metadata": {},
   "outputs": [],
   "source": [
    "# Path to the folder containing image files\n",
    "folder_path = \"dataset/mini_testdatensatz_cleared/test\"\n",
    "counter = 0\n",
    "\n",
    "# Iterate through all files in the folder\n",
    "for filename in os.listdir(folder_path):\n",
    "    # Check if the file is an image file\n",
    "    if filename.endswith(\".jpg\") or filename.endswith(\".jpeg\") or filename.endswith(\".png\"):\n",
    "        counter += 1\n",
    "        # Process the image\n",
    "        image_path = os.path.join(folder_path, filename)\n",
    "        img = Image.open(image_path) # Open the image file\n",
    "        keypoint_pos_ein_bild = Sift(img,features=32,mask_on=True,counter=counter,safe_picture=True)\n",
    "        print(\"Keypoints Bild\",counter,keypoint_pos_ein_bild)\n",
    "        \n",
    "        "
   ]
  }
 ],
 "metadata": {
  "kernelspec": {
   "display_name": "deepl_env",
   "language": "python",
   "name": "python3"
  },
  "language_info": {
   "codemirror_mode": {
    "name": "ipython",
    "version": 3
   },
   "file_extension": ".py",
   "mimetype": "text/x-python",
   "name": "python",
   "nbconvert_exporter": "python",
   "pygments_lexer": "ipython3",
   "version": "3.8.10"
  }
 },
 "nbformat": 4,
 "nbformat_minor": 2
}

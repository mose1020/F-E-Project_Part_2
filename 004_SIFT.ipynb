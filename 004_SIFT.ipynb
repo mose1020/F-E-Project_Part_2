{
 "cells": [
  {
   "cell_type": "code",
   "execution_count": 1,
   "metadata": {},
   "outputs": [],
   "source": [
    "import cv2\n",
    "from PIL import Image\n",
    "from train_dataset import img_patch,img_segmention\n",
    "import numpy as np\n",
    "import os"
   ]
  },
  {
   "cell_type": "code",
   "execution_count": 2,
   "metadata": {},
   "outputs": [],
   "source": [
    "def Sift(img,features,mask_on,counter,safe_picture=True):\n",
    "\n",
    "    keypoint_pos_ein_bild = []\n",
    "\n",
    "    #Pillow-img\n",
    "    img = img_patch(img,[192,192])\n",
    "    _,mask,_ = img_segmention(img)\n",
    "    \n",
    "    gray = img.convert('L')\n",
    "\n",
    "    # Numpy-img\n",
    "    img_numpy = np.array(img)\n",
    "    gray_numpy =  np.array(gray)\n",
    "\n",
    "    # OpenCV-img\n",
    "    img_cv2 = cv2.cvtColor(img_numpy, cv2.COLOR_RGB2BGR)\n",
    "    gray_cv2 = cv2.cvtColor(gray_numpy, cv2.COLOR_GRAY2BGR)\n",
    "\n",
    "    # Initialize the SIFT detector with custom parameters\n",
    "    sift = cv2.SIFT_create(nfeatures=features)\n",
    "\n",
    "    # Detect keypoints in the image\n",
    "    if mask_on == True:\n",
    "        keypoints = sift.detect(gray_cv2, mask = mask)\n",
    "    else:\n",
    "        keypoints = sift.detect(gray_cv2)\n",
    "\n",
    "\n",
    "    for kp in keypoints:\n",
    "        keypoint_pos_ein_bild.append(kp.pt)\n",
    "    \n",
    "    #keypoint_pos_ein_bild = [list(t) for t in keypoint_pos_ein_bild]\n",
    "    keypoint_pos_ein_bild = [num for tup in keypoint_pos_ein_bild for num in tup]\n",
    "\n",
    "    # Draw the keypoints on the image\n",
    "    keypoints_image = cv2.drawKeypoints(img_cv2, keypoints, None, flags=0)\n",
    "    mask[mask == 1] = 255\n",
    "    mask_image = mask\n",
    "    \n",
    "\n",
    "    if safe_picture == True:\n",
    "\n",
    "        fname = \"sift_\" + str(counter) + \".png\"\n",
    "        fname_mask = \"sift_\" + str(counter) + \"mask.png\"\n",
    "        cv2.imwrite(os.path.join(\"sift\", fname), keypoints_image)\n",
    "        cv2.imwrite(os.path.join(\"sift\", fname_mask), mask_image)\n",
    "\n",
    "    # Display the keypoints image\n",
    "\n",
    "    return keypoint_pos_ein_bild"
   ]
  },
  {
   "cell_type": "code",
   "execution_count": 3,
   "metadata": {},
   "outputs": [
    {
     "name": "stderr",
     "output_type": "stream",
     "text": [
      "/home/scco0002/F&E_DeepLearning_VS/deepl_env/lib/python3.8/site-packages/skimage/util/dtype.py:541: UserWarning: Downcasting int64 to uint8 without scaling because max value 2 fits in uint8\n",
      "  return _convert(image, np.uint8, force_copy)\n",
      "/home/scco0002/F&E_DeepLearning_VS/deepl_env/lib/python3.8/site-packages/skimage/util/dtype.py:541: UserWarning: Downcasting int64 to uint8 without scaling because max value 3 fits in uint8\n",
      "  return _convert(image, np.uint8, force_copy)\n"
     ]
    },
    {
     "name": "stdout",
     "output_type": "stream",
     "text": [
      "Keypoints Bild 1 [116.95734405517578, 108.98880004882812, 140.31698608398438, 107.4713363647461, 142.9133758544922, 112.21546936035156, 143.3741455078125, 111.05484771728516]\n",
      "Keypoints Bild 2 [119.9748764038086, 105.54112243652344, 146.0135498046875, 109.05623626708984]\n",
      "Keypoints Bild 3 [152.94326782226562, 100.95784759521484]\n",
      "Keypoints Bild 4 [160.81838989257812, 86.98235321044922, 162.87368774414062, 90.2265396118164, 160.81838989257812, 86.98235321044922, 161.7840118408203, 92.4659652709961, 160.81838989257812, 86.98235321044922]\n",
      "Keypoints Bild 5 [129.4676971435547, 94.86894226074219, 155.7791748046875, 98.42626953125, 154.03196716308594, 94.02286529541016, 154.03196716308594, 94.02286529541016]\n",
      "Keypoints Bild 6 [36.100555419921875, 93.15380096435547, 36.100555419921875, 93.15380096435547, 38.74595642089844, 96.76045989990234, 38.886863708496094, 102.43505096435547, 39.52201843261719, 106.96925354003906, 43.54187774658203, 97.28181457519531, 43.54187774658203, 97.28181457519531, 44.7527961730957, 103.71099090576172, 46.036861419677734, 106.5087661743164, 49.625335693359375, 104.41581726074219, 50.431785583496094, 108.9582290649414, 50.431785583496094, 108.9582290649414, 53.32192611694336, 106.35079193115234, 53.32192611694336, 106.35079193115234, 54.905601501464844, 110.34266662597656, 73.34547424316406, 143.9365997314453, 78.1189956665039, 146.70391845703125, 88.25982666015625, 144.46461486816406, 93.50333404541016, 147.0056915283203, 105.89032745361328, 120.6416015625, 105.89032745361328, 120.6416015625, 108.05269622802734, 119.27630615234375, 126.96295166015625, 89.72382354736328, 127.15340423583984, 83.39082336425781, 130.67373657226562, 117.5843276977539, 131.5930938720703, 93.3525390625, 132.22164916992188, 82.92561340332031, 132.22164916992188, 82.92561340332031, 134.02452087402344, 121.06153106689453]\n",
      "Keypoints Bild 7 [113.91548919677734, 112.45954132080078, 137.04937744140625, 110.83849334716797, 139.90884399414062, 115.22151184082031, 140.32557678222656, 114.158447265625]\n",
      "Keypoints Bild 8 [110.96472930908203, 115.92024230957031, 133.8438720703125, 114.24441528320312, 137.22210693359375, 117.40007019042969]\n",
      "Keypoints Bild 9 [123.12185668945312, 101.99717712402344, 147.18531799316406, 100.89469146728516, 148.90391540527344, 106.32167053222656, 149.8887939453125, 103.98976135253906]\n",
      "Keypoints Bild 10 [132.66831970214844, 91.34241485595703, 157.41722106933594, 90.5810317993164, 157.41722106933594, 90.5810317993164]\n"
     ]
    }
   ],
   "source": [
    "# Path to the folder containing image files\n",
    "folder_path = \"/home/scco0002/F&E_DeepLearning_VS/011_KOVIS_13_03_2023/dataset/dataset_no_rotation/test\"\n",
    "counter = 0\n",
    "\n",
    "# Iterate through all files in the folder\n",
    "for filename in os.listdir(folder_path):\n",
    "    # Check if the file is an image file\n",
    "    if filename.endswith(\".jpg\") or filename.endswith(\".jpeg\") or filename.endswith(\".png\"):\n",
    "        counter += 1\n",
    "        # Process the image\n",
    "        image_path = os.path.join(folder_path, filename)\n",
    "        img = Image.open(image_path) # Open the image file\n",
    "        keypoint_pos_ein_bild = Sift(img,features=32,mask_on=True,counter=counter,safe_picture=True)\n",
    "        print(\"Keypoints Bild\",counter,keypoint_pos_ein_bild)\n",
    "        \n",
    "        "
   ]
  }
 ],
 "metadata": {
  "kernelspec": {
   "display_name": "deepl_env",
   "language": "python",
   "name": "python3"
  },
  "language_info": {
   "codemirror_mode": {
    "name": "ipython",
    "version": 3
   },
   "file_extension": ".py",
   "mimetype": "text/x-python",
   "name": "python",
   "nbconvert_exporter": "python",
   "pygments_lexer": "ipython3",
   "version": "3.8.10"
  },
  "orig_nbformat": 4
 },
 "nbformat": 4,
 "nbformat_minor": 2
}

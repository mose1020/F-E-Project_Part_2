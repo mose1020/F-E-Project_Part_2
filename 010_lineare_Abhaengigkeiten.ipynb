{
 "cells": [
  {
   "cell_type": "code",
   "execution_count": 41,
   "metadata": {},
   "outputs": [
    {
     "name": "stdout",
     "output_type": "stream",
     "text": [
      "True\n"
     ]
    }
   ],
   "source": [
    "def are_linearly_dependent(point1, point2):\n",
    "    x1, y1 = point1[0], point1[1]\n",
    "    x2, y2 = point2[0], point2[1] \n",
    "\n",
    "    x_factor = x2 / x1\n",
    "\n",
    "    y2_calc = x_factor * y1\n",
    "\n",
    "    if y2_calc == y2:\n",
    "        return True\n",
    "    else:\n",
    "        return False\n",
    "\n"
   ]
  },
  {
   "cell_type": "code",
   "execution_count": 45,
   "metadata": {},
   "outputs": [
    {
     "name": "stdout",
     "output_type": "stream",
     "text": [
      "[[1, 2], [10, 5], [7, 8], [4, 4]]\n"
     ]
    }
   ],
   "source": [
    "keypoints = [[1, 2], [10, 5], [20, 10], [7, 8],[4,4],[2,4]]\n",
    "\n",
    "\n",
    "\n",
    "keypoints_indepedent = []\n",
    "\n",
    "for keypoint1 in keypoints:\n",
    "\n",
    "    independent = 0\n",
    "    independent2 = 0\n",
    "\n",
    "    for keypoint2 in keypoints:\n",
    "\n",
    "        if are_linearly_dependent(keypoint1, keypoint2) == True:\n",
    "            independent += 1\n",
    "    \n",
    "    if independent == 1:\n",
    "        keypoints_indepedent.append(keypoint1)\n",
    "\n",
    "    if independent > 1:\n",
    "\n",
    "        for keypoint3 in keypoints_indepedent:\n",
    "            if are_linearly_dependent(keypoint1, keypoint3) == True:\n",
    "                independent2 += 1\n",
    "        \n",
    "        if independent2 == 0:\n",
    "            keypoints_indepedent.append(keypoint1)\n",
    "        \n",
    "\n",
    "print(keypoints_indepedent)\n",
    "\n",
    "\n",
    "            "
   ]
  },
  {
   "cell_type": "code",
   "execution_count": 47,
   "metadata": {},
   "outputs": [
    {
     "name": "stdout",
     "output_type": "stream",
     "text": [
      "[[100, 200], [150, 250], [300, 400]]\n"
     ]
    }
   ],
   "source": [
    "def get_independent_keypoints(keypoints):\n",
    "\n",
    "    keypoints_indepedent = []\n",
    "\n",
    "    for keypoint1 in keypoints:\n",
    "\n",
    "        independent = 0\n",
    "        independent2 = 0\n",
    "\n",
    "        for keypoint2 in keypoints:\n",
    "\n",
    "            if are_linearly_dependent(keypoint1, keypoint2) == True:\n",
    "                independent += 1\n",
    "        \n",
    "        if independent == 1:\n",
    "            keypoints_indepedent.append(keypoint1)\n",
    "\n",
    "        if independent > 1:\n",
    "\n",
    "            for keypoint3 in keypoints_indepedent:\n",
    "                if are_linearly_dependent(keypoint1, keypoint3) == True:\n",
    "                    independent2 += 1\n",
    "            \n",
    "            if independent2 == 0:\n",
    "                keypoints_indepedent.append(keypoint1)\n",
    "            \n",
    "    return keypoints_indepedent\n",
    "\n",
    "keypoints = [[100,200],[150,250],[300,400]]\n",
    "hansen = get_independent_keypoints(keypoints)\n",
    "print(hansen)"
   ]
  }
 ],
 "metadata": {
  "kernelspec": {
   "display_name": "Python 3",
   "language": "python",
   "name": "python3"
  },
  "language_info": {
   "codemirror_mode": {
    "name": "ipython",
    "version": 3
   },
   "file_extension": ".py",
   "mimetype": "text/x-python",
   "name": "python",
   "nbconvert_exporter": "python",
   "pygments_lexer": "ipython3",
   "version": "3.10.6"
  },
  "orig_nbformat": 4
 },
 "nbformat": 4,
 "nbformat_minor": 2
}

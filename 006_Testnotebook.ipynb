{
 "cells": [
  {
   "attachments": {},
   "cell_type": "markdown",
   "metadata": {},
   "source": [
    "# Test 1 Sam Maske: Achtung nicht löschen !!!!!!!!!!\n"
   ]
  },
  {
   "cell_type": "code",
   "execution_count": null,
   "metadata": {},
   "outputs": [],
   "source": [
    "from PIL import Image, ImageOps\n",
    "import torch\n",
    "import numpy as np"
   ]
  },
  {
   "cell_type": "code",
   "execution_count": null,
   "metadata": {},
   "outputs": [],
   "source": [
    "im_size =[720,720]\n",
    "mask_path = 'dataset/mini_testdatensatz/segmentation_images/picture_1.png'\n",
    "img_path = 'dataset/mini_testdatensatz/train/picture_1.png'"
   ]
  },
  {
   "cell_type": "code",
   "execution_count": null,
   "metadata": {},
   "outputs": [],
   "source": [
    "def img_patch(img,segmentation=False):\n",
    "        # Calculate the aspect ratio of the image\n",
    "        img_ratio = img.width / img.height\n",
    "\n",
    "        # If the image is wider than it is high\n",
    "        if img_ratio > 1:\n",
    "            # Scale the width to the desired size and calculate the height while maintaining the aspect ratio\n",
    "            new_width = im_size[0]\n",
    "            new_height = int(new_width / img_ratio)\n",
    "        # If the image is taller than it is wide\n",
    "        else:\n",
    "            # Scale the height to the desired size and calculate the width while maintaining the aspect ratio\n",
    "            new_height = im_size[1]\n",
    "            new_width = int(new_height * img_ratio)\n",
    "\n",
    "        # Resize the image to the calculated size while maintaining the aspect ratio\n",
    "        img = img.resize((new_width, new_height), resample=Image.BICUBIC)\n",
    "\n",
    "        # Add black borders to the left and right or top and bottom of the image to make it the desired size\n",
    "        delta_w = im_size[0] - new_width\n",
    "        delta_h = im_size[1] - new_height\n",
    "        pad_width = delta_w // 2\n",
    "        pad_height = delta_h // 2\n",
    "        padding = (pad_width, pad_height, delta_w - pad_width, delta_h - pad_height)\n",
    "        if segmentation:\n",
    "            img = ImageOps.expand(img, border=padding, fill=(0))\n",
    "        else:\n",
    "            img = ImageOps.expand(img, border=padding, fill=(255,255,255))\n",
    "\n",
    "        # Return the scaled and centered image\n",
    "        return img"
   ]
  },
  {
   "cell_type": "code",
   "execution_count": null,
   "metadata": {},
   "outputs": [],
   "source": [
    "# Achtung, mask und mask tensor sind nur auf Grund der Visualisierung von mask aufkommentiert, im echten Code nicht\n",
    "def img_segmention2(mask_path):\n",
    "\n",
    "    mask = Image.open(mask_path).convert('1')\n",
    "    mask = img_patch(mask,segmentation=True) # problem with the color --> we only need one channel\n",
    "    mask = np.array(mask)\n",
    "    mask_tensor = torch.from_numpy(mask)\n",
    "\n",
    "    return mask_tensor, mask"
   ]
  },
  {
   "cell_type": "code",
   "execution_count": null,
   "metadata": {},
   "outputs": [],
   "source": [
    "img = Image.open(img_path)\n",
    "img = img_patch(img)\n",
    "img = np.array(img)\n",
    "display(Image.fromarray(img))\n"
   ]
  },
  {
   "cell_type": "code",
   "execution_count": null,
   "metadata": {},
   "outputs": [],
   "source": [
    "_,mask = img_segmention2(mask_path)\n",
    "display(Image.fromarray(mask))"
   ]
  },
  {
   "cell_type": "code",
   "execution_count": null,
   "metadata": {},
   "outputs": [],
   "source": [
    "result_array = np.zeros_like(img)\n",
    "result_array[mask] = img[mask]\n",
    "result_image = Image.fromarray(result_array)\n",
    "display(result_image)"
   ]
  },
  {
   "attachments": {},
   "cell_type": "markdown",
   "metadata": {},
   "source": [
    "# Test 2 Datensatz analysieren 1c"
   ]
  },
  {
   "cell_type": "code",
   "execution_count": null,
   "metadata": {},
   "outputs": [],
   "source": [
    "import numpy as np\n",
    "\n",
    "# Create a 3D numpy array with shape (height, width, channels) representing an RGB image\n",
    "img = np.zeros((50, 50, 3)) # Set all values to 0 initially\n",
    "img[10:20, 20:30, :] = [0, 0, 255] # Set a region of the image to red\n",
    "\n",
    "# Create a 2D numpy array with shape (height, width) representing a binary mask\n",
    "mask = np.zeros((50, 50)) # Set all values to 0 initially\n",
    "mask[10:25, 20:30] = 1 # Set a rectangular region of the mask to 1\n",
    "\n",
    "# Check that the shapes of the arrays are the same\n",
    "#assert img.shape[:-1] == mask.shape\n",
    "\n",
    "\n",
    "# Calculate the mean of the img array for every channel, only using the values of pixels where the corresponding value in the mask array is 1\n",
    "mean = [[],[],[]]\n",
    "num_pixels = 0\n",
    "for channel in range(3):\n",
    "    values = img[:,:,channel][mask == 1] # Get the values of pixels where the mask is 1 for the current channel\n",
    "    mean[channel] = np.mean(values) if len(values) > 0 else 0 # Calculate the mean of the values if there are any\n",
    "    num_pixels += len(values) # Add the number of pixels with valid values to the total\n",
    "\n",
    "\n"
   ]
  }
 ],
 "metadata": {
  "kernelspec": {
   "display_name": "deepl_env",
   "language": "python",
   "name": "python3"
  },
  "language_info": {
   "codemirror_mode": {
    "name": "ipython",
    "version": 3
   },
   "file_extension": ".py",
   "mimetype": "text/x-python",
   "name": "python",
   "nbconvert_exporter": "python",
   "pygments_lexer": "ipython3",
   "version": "3.10.6"
  }
 },
 "nbformat": 4,
 "nbformat_minor": 2
}

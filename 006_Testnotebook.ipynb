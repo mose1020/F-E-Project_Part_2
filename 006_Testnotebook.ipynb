{
 "cells": [
  {
   "attachments": {},
   "cell_type": "markdown",
   "metadata": {},
   "source": [
    "# Test 1 Sam Maske: Achtung nicht löschen !!!!!!!!!!\n"
   ]
  },
  {
   "cell_type": "code",
   "execution_count": null,
   "metadata": {},
   "outputs": [],
   "source": [
    "from PIL import Image, ImageOps\n",
    "import torch\n",
    "import numpy as np"
   ]
  },
  {
   "cell_type": "code",
   "execution_count": null,
   "metadata": {},
   "outputs": [],
   "source": [
    "im_size =[720,720]\n",
    "mask_path = 'dataset/mini_testdatensatz/segmentation_images/picture_1.png'\n",
    "img_path = 'dataset/mini_testdatensatz/train/picture_1.png'"
   ]
  },
  {
   "cell_type": "code",
   "execution_count": null,
   "metadata": {},
   "outputs": [],
   "source": [
    "def img_patch(img,segmentation=False):\n",
    "        # Calculate the aspect ratio of the image\n",
    "        img_ratio = img.width / img.height\n",
    "\n",
    "        # If the image is wider than it is high\n",
    "        if img_ratio > 1:\n",
    "            # Scale the width to the desired size and calculate the height while maintaining the aspect ratio\n",
    "            new_width = im_size[0]\n",
    "            new_height = int(new_width / img_ratio)\n",
    "        # If the image is taller than it is wide\n",
    "        else:\n",
    "            # Scale the height to the desired size and calculate the width while maintaining the aspect ratio\n",
    "            new_height = im_size[1]\n",
    "            new_width = int(new_height * img_ratio)\n",
    "\n",
    "        # Resize the image to the calculated size while maintaining the aspect ratio\n",
    "        img = img.resize((new_width, new_height), resample=Image.BICUBIC)\n",
    "\n",
    "        # Add black borders to the left and right or top and bottom of the image to make it the desired size\n",
    "        delta_w = im_size[0] - new_width\n",
    "        delta_h = im_size[1] - new_height\n",
    "        pad_width = delta_w // 2\n",
    "        pad_height = delta_h // 2\n",
    "        padding = (pad_width, pad_height, delta_w - pad_width, delta_h - pad_height)\n",
    "        if segmentation:\n",
    "            img = ImageOps.expand(img, border=padding, fill=(0))\n",
    "        else:\n",
    "            img = ImageOps.expand(img, border=padding, fill=(255,255,255))\n",
    "\n",
    "        # Return the scaled and centered image\n",
    "        return img"
   ]
  },
  {
   "cell_type": "code",
   "execution_count": null,
   "metadata": {},
   "outputs": [],
   "source": [
    "# Achtung, mask und mask tensor sind nur auf Grund der Visualisierung von mask aufkommentiert, im echten Code nicht\n",
    "def img_segmention2(mask_path):\n",
    "\n",
    "    mask = Image.open(mask_path).convert('1')\n",
    "    mask = img_patch(mask,segmentation=True) # problem with the color --> we only need one channel\n",
    "    mask = np.array(mask)\n",
    "    mask_tensor = torch.from_numpy(mask)\n",
    "\n",
    "    return mask_tensor, mask"
   ]
  },
  {
   "cell_type": "code",
   "execution_count": null,
   "metadata": {},
   "outputs": [],
   "source": [
    "img = Image.open(img_path)\n",
    "img = img_patch(img)\n",
    "img = np.array(img)\n",
    "display(Image.fromarray(img))\n"
   ]
  },
  {
   "cell_type": "code",
   "execution_count": null,
   "metadata": {},
   "outputs": [],
   "source": [
    "_,mask = img_segmention2(mask_path)\n",
    "display(Image.fromarray(mask))"
   ]
  },
  {
   "cell_type": "code",
   "execution_count": null,
   "metadata": {},
   "outputs": [],
   "source": [
    "result_array = np.zeros_like(img)\n",
    "result_array[mask] = img[mask]\n",
    "result_image = Image.fromarray(result_array)\n",
    "display(result_image)"
   ]
  },
  {
   "attachments": {},
   "cell_type": "markdown",
   "metadata": {},
   "source": [
    "# Test 2 Datensatz analysieren 1c"
   ]
  },
  {
   "cell_type": "code",
   "execution_count": null,
   "metadata": {},
   "outputs": [],
   "source": [
    "import numpy as np\n",
    "\n",
    "# Create a 3D numpy array with shape (height, width, channels) representing an RGB image\n",
    "img = np.zeros((50, 50, 3)) # Set all values to 0 initially\n",
    "img[10:20, 20:30, :] = [0, 0, 255] # Set a region of the image to red\n",
    "\n",
    "# Create a 2D numpy array with shape (height, width) representing a binary mask\n",
    "mask = np.zeros((50, 50)) # Set all values to 0 initially\n",
    "mask[10:25, 20:30] = 1 # Set a rectangular region of the mask to 1\n",
    "\n",
    "# Check that the shapes of the arrays are the same\n",
    "#assert img.shape[:-1] == mask.shape\n",
    "\n",
    "\n",
    "# Calculate the mean of the img array for every channel, only using the values of pixels where the corresponding value in the mask array is 1\n",
    "mean = [[],[],[]]\n",
    "num_pixels = 0\n",
    "for channel in range(3):\n",
    "    values = img[:,:,channel][mask == 1] # Get the values of pixels where the mask is 1 for the current channel\n",
    "    mean[channel] = np.mean(values) if len(values) > 0 else 0 # Calculate the mean of the values if there are any\n",
    "    num_pixels += len(values) # Add the number of pixels with valid values to the total\n",
    "\n",
    "\n"
   ]
  },
  {
   "attachments": {},
   "cell_type": "markdown",
   "metadata": {},
   "source": [
    "#  Missing Pictures"
   ]
  },
  {
   "cell_type": "code",
   "execution_count": null,
   "metadata": {},
   "outputs": [],
   "source": [
    "import os\n",
    "\n",
    "# set the paths to your two folders\n",
    "folder1_path = '/home/scco0002/F&E_DeepLearning_VS/F-E-Project_Part_2/dataset/dataset_large_2023_5_9_cleared/train'\n",
    "folder2_path = '/home/scco0002/F&E_DeepLearning_VS/F-E-Project_Part_2/dataset/dataset_large_2023_5_9_cleared/segmentation_images'\n",
    "\n",
    "# get the set of filenames in each folder\n",
    "folder1_files = set(os.listdir(folder1_path))\n",
    "folder2_files = set(os.listdir(folder2_path))\n",
    "\n",
    "# find the set of filenames that are in folder2 but not in folder1\n",
    "missing_files = folder2_files - folder1_files\n",
    "\n",
    "# print the missing filenames\n",
    "print(missing_files)\n"
   ]
  },
  {
   "attachments": {},
   "cell_type": "markdown",
   "metadata": {},
   "source": [
    "# Regeltakt"
   ]
  },
  {
   "cell_type": "code",
   "execution_count": null,
   "metadata": {},
   "outputs": [],
   "source": [
    "import datetime\n",
    "import time\n",
    "starttime = datetime.datetime.now()\n",
    "time.sleep(5)\n",
    "endtime = datetime.datetime.now()\n",
    "counter = 100\n",
    "\n",
    "# deltatime in seconds\n",
    "print(1/((endtime - starttime).seconds/counter))"
   ]
  },
  {
   "cell_type": "markdown",
   "metadata": {},
   "source": [
    "# Vergleich Controller Matlab / Python"
   ]
  },
  {
   "cell_type": "markdown",
   "metadata": {},
   "source": [
    "## neue Klasse für IBVS"
   ]
  },
  {
   "cell_type": "code",
   "execution_count": null,
   "metadata": {},
   "outputs": [],
   "source": [
    "import numpy as np\n",
    "from numpy.linalg import inv\n",
    "from scipy import linalg\n",
    "\n",
    "class VisualServoingController:\n",
    "    def __init__(self, z=0.1):\n",
    "        self.z = z\n",
    "\n",
    "    def get_feature_jacobian(self, u, v):\n",
    "        Jf = np.array([\n",
    "            [-1/self.z, 0, u/self.z, u*v, -(1 + u**2), v],\n",
    "            [0, -1/self.z, v/self.z, 1 + v**2, -v*u, -u]\n",
    "        ], dtype=np.float64)\n",
    "        return Jf\n",
    "\n",
    "    def get_stack_feature_jacobian(self, feature_pts):\n",
    "        Jfstack = None\n",
    "        for i in range(feature_pts.shape[0]):\n",
    "            u, v = feature_pts[i]\n",
    "            Jf = self.get_feature_jacobian(u, v)\n",
    "            if i == 0:\n",
    "                Jfstack = Jf\n",
    "            else:\n",
    "                Jfstack = np.vstack((Jfstack, Jf))\n",
    "        return Jfstack\n",
    "\n",
    "    def ibvs_controller(self, Jf, f_act, f_des, kIBVS):\n",
    "        e_u = f_des[:,0] - f_act[:,0]\n",
    "        print(e_u)\n",
    "        e_v = f_des[:,1] - f_act[:,1]\n",
    "        print(e_v)\n",
    "        e = np.empty((2 * len(e_u)), dtype=np.float64)\n",
    "        e[::2] = e_u\n",
    "        e[1::2] = e_v\n",
    "        print(e)\n",
    "        print(Jf.shape)\n",
    "        # transform e to a column vector\n",
    "        #e = e.reshape(-1, 1)\n",
    "        #dp = kIBVS * (np.linalg.inv(Jf.T @ Jf)) @ Jf.T @ e\n",
    "\n",
    "        dp = kIBVS * (np.linalg.pinv(Jf)) @ e\n",
    "        return dp\n"
   ]
  },
  {
   "cell_type": "code",
   "execution_count": null,
   "metadata": {},
   "outputs": [],
   "source": [
    "import numpy as np\n",
    "\n",
    "# Actual positions of four features\n",
    "f_act_good = np.array([[100, 200], [150, 250], [300, 400],[10,20]], dtype=np.float64)\n",
    "# Desired positions of the four features\n",
    "f_des_good = np.array([[123, 212], [142, 250], [365, 401],[84,12]], dtype=np.float64)\n",
    "\n",
    "f_act_bad = np.array([[100, 200], [150, 250], [300, 400]],dtype=np.float64) # denken diese Werte sind linear abhängig\n",
    "f_des_bad = np.array([[110, 210], [160, 260], [310, 410]],dtype=np.float64) # denken diese Werte sind linear abhängig\n",
    "\n",
    "version = \"bad\"\n",
    "\n",
    "if version == \"goog\":\n",
    "\n",
    "    f_act = f_act_bad\n",
    "    f_des = f_des_bad\n",
    "\n",
    "else: # version == \"good\"\n",
    "    f_act = f_act_good\n",
    "    f_des = f_des_good\n",
    "\n",
    "# Create a controller object\n",
    "controller = VisualServoingController(z=0.1)\n",
    "\n",
    "# Calculate the Jacobian of the features\n",
    "Jf =  controller.get_stack_feature_jacobian(f_act)\n",
    "# Set the gain of the IBVS controller\n",
    "KiBVS = 0.01\n",
    "\n",
    "Jf_1 = Jf.T @ Jf\n",
    "#print(\"Jf_1\",Jf_1)\n",
    "#print(\"\\n\")\n",
    "Jf_2 = np.linalg.inv(Jf_1)\n",
    "#print(Jf_2)\n",
    "#print(\"\\n\")\n",
    "# Calculate the determinant\n",
    "determinate = np.linalg.det(Jf_1)\n",
    "#print(\"determinate\",determinate)\n",
    "#print(\"\\n\")\n",
    "\n",
    "# Calculate the control input\n",
    "dp = controller.ibvs_controller(Jf, f_act, f_des, KiBVS)\n",
    "print(\"dp\",dp)"
   ]
  }
 ],
 "metadata": {
  "kernelspec": {
   "display_name": "deepl_env",
   "language": "python",
   "name": "python3"
  },
  "language_info": {
   "codemirror_mode": {
    "name": "ipython",
    "version": 3
   },
   "file_extension": ".py",
   "mimetype": "text/x-python",
   "name": "python",
   "nbconvert_exporter": "python",
   "pygments_lexer": "ipython3",
   "version": "3.8.10"
  }
 },
 "nbformat": 4,
 "nbformat_minor": 2
}

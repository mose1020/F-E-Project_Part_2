{
 "cells": [
  {
   "cell_type": "code",
   "execution_count": null,
   "metadata": {},
   "outputs": [],
   "source": [
    "from PIL import Image\n",
    "import os\n",
    "import numpy as np\n",
    "import matplotlib.pyplot as plt\n",
    "import shutil\n",
    "import tqdm"
   ]
  },
  {
   "cell_type": "code",
   "execution_count": null,
   "metadata": {},
   "outputs": [],
   "source": [
    "# Set the paths to the directories\n",
    "base_dir = \"dataset/datensatz_2000_v1\"\n",
    "train_dir = os.path.join(base_dir, \"train\")\n",
    "seg_dir = os.path.join(base_dir, \"segmentation_images\")\n",
    "\n",
    "# Initialize variables for the means of the entire image and masked region\n",
    "mean_image = np.zeros((3,))\n",
    "mean_masked = np.zeros((3,))\n",
    "num_masked_pixels = 0\n",
    "\n",
    "color_list = [[],[],[],[],[]]\n",
    "\n",
    "# Loop through each image in the train folder\n",
    "for filename in tqdm.tqdm(os.listdir(train_dir)):\n",
    "    if filename.endswith(\".jpg\") or filename.endswith(\".png\"):\n",
    "    \n",
    "        # Open the image and its corresponding segmentation mask\n",
    "        img_path = os.path.join(train_dir, filename)\n",
    "        seg_path = os.path.join(seg_dir, filename)\n",
    "        img = Image.open(img_path)\n",
    "        seg = Image.open(seg_path).convert(\"1\")\n",
    "\n",
    "        # Convert the segmentation mask to a binary numpy array\n",
    "        seg_array = np.array(seg)\n",
    "        img_array = np.array(img)\n",
    "\n",
    "        mean = [[],[],[]]\n",
    "        for channel in range(3):\n",
    "            values = img_array[:,:,channel][seg_array == 1] # Get the values of pixels where the mask is 1 for the current channel\n",
    "            mean[channel] = np.mean(values) if len(values) > 0 else 0 # Calculate the mean of the values if there are any\n",
    "\n",
    "        color_list[0].append(filename)\n",
    "        color_list[1].append(mean[0]) # red\n",
    "        color_list[2].append(mean[1]) # green\n",
    "        color_list[3].append(mean[2]) # blue\n",
    "        color_list[4].append(np.mean(mean)) # rgb\n",
    "            \n",
    "\n",
    "print(\"Mittlerer Rot-Wert für alle Bilder:\",np.mean(color_list[1]))\n",
    "print(\"Mittlerer Grün-Wert für alle Bilder:\",np.mean(color_list[2]))\n",
    "print(\"Mittlerer Blau-Wert für alle Bilder:\",np.mean(color_list[3]))\n",
    "print(\"Mittlerer RGB-Wert für alle Bilder:\",np.mean(color_list[4]))"
   ]
  },
  {
   "cell_type": "code",
   "execution_count": null,
   "metadata": {},
   "outputs": [],
   "source": [
    "import matplotlib.pyplot as plt\n",
    "import numpy as np\n",
    "\n",
    "# Generate some sample data\n",
    "data = color_list[4]\n",
    "\n",
    "# Create a histogram with 20 bins\n",
    "plt.hist(data, bins=20)\n",
    "\n",
    "# Calculate the mean and standard deviation\n",
    "mean = np.mean(data)\n",
    "std = np.std(data)\n",
    "\n",
    "# Plot the mean as a vertical line\n",
    "plt.axvline(mean, color='r', linestyle='--', label='Mean')\n",
    "\n",
    "# Plot the one, two, and three standard deviation lines\n",
    "plt.axvline(mean + std, color='g', linestyle=':', label='1$\\sigma$')\n",
    "plt.axvline(mean - std, color='g', linestyle=':')\n",
    "plt.axvline(mean + 2*std, color='orange', linestyle=':', label='2$\\sigma$')\n",
    "plt.axvline(mean - 2*std, color='orange', linestyle=':')\n",
    "plt.axvline(mean + 3*std, color='r', linestyle=':', label='3$\\sigma$')\n",
    "plt.axvline(mean - 3*std, color='r', linestyle=':')\n",
    "\n",
    "# Add a legend\n",
    "plt.legend()\n",
    "\n",
    "# Show the plot\n",
    "plt.show()\n"
   ]
  },
  {
   "cell_type": "code",
   "execution_count": null,
   "metadata": {},
   "outputs": [],
   "source": [
    "base_dir_copy = base_dir + \"_cleared\"\n",
    "\n",
    "if os.path.exists(base_dir_copy):\n",
    "    shutil.rmtree(base_dir_copy)\n",
    "\n",
    "shutil.copytree(base_dir, base_dir_copy)"
   ]
  },
  {
   "cell_type": "code",
   "execution_count": null,
   "metadata": {},
   "outputs": [],
   "source": [
    "if not os.path.exists(os.path.join(base_dir_copy,'segmentation_sorted_out')):\n",
    "    os.mkdir(os.path.join(base_dir_copy,'segmentation_sorted_out'))\n",
    "\n",
    "if not os.path.exists(os.path.join(base_dir_copy,'segmentation_sorted_out/real_images')):\n",
    "    os.mkdir(os.path.join(base_dir_copy,'segmentation_sorted_out/real_images'))\n",
    "\n",
    "if not os.path.exists(os.path.join(base_dir_copy,'segmentation_sorted_out/masks')):\n",
    "    os.mkdir(os.path.join(base_dir_copy,'segmentation_sorted_out/masks'))"
   ]
  },
  {
   "cell_type": "code",
   "execution_count": null,
   "metadata": {},
   "outputs": [],
   "source": [
    "sd = 4\n",
    "\n",
    "train_dir_copy = os.path.join(base_dir_copy, \"train\")\n",
    "seg_dir_copy = os.path.join(base_dir_copy, \"segmentation_images\")\n",
    "\n",
    "mean = np.mean(color_list[4])\n",
    "std_dev = np.std(color_list[4])\n",
    "threshold = sd * std_dev\n",
    "\n",
    "for i in range(len(color_list[4])):\n",
    "    if color_list[4][i] < mean - threshold or color_list[4][i] > mean + threshold:\n",
    "        shutil.move(os.path.join(train_dir_copy, color_list[0][i]), base_dir_copy+'/segmentation_sorted_out/real_images/'+color_list[0][i])\n",
    "        shutil.move(os.path.join(seg_dir_copy, color_list[0][i]), base_dir_copy+'/segmentation_sorted_out/masks/'+color_list[0][i])"
   ]
  }
 ],
 "metadata": {
  "kernelspec": {
   "display_name": "Python 3",
   "language": "python",
   "name": "python3"
  },
  "language_info": {
   "codemirror_mode": {
    "name": "ipython",
    "version": 3
   },
   "file_extension": ".py",
   "mimetype": "text/x-python",
   "name": "python",
   "nbconvert_exporter": "python",
   "pygments_lexer": "ipython3",
   "version": "3.8.10"
  }
 },
 "nbformat": 4,
 "nbformat_minor": 2
}

{
 "cells": [
  {
   "attachments": {},
   "cell_type": "markdown",
   "metadata": {},
   "source": [
    "Analyse Wie viele Bilder waren nicht segmentierbar."
   ]
  },
  {
   "cell_type": "code",
   "execution_count": null,
   "metadata": {},
   "outputs": [],
   "source": [
    "import os\n",
    "# /home/scco0002/F&E_DeepLearning_VS/F-E-Project_Part_2/dataset/dataset_large_2023_5_9/train # all train images\n",
    "# /home/scco0002/F&E_DeepLearning_VS/F-E-Project_Part_2/dataset/dataset_large_2023_5_9/segmentation_images # all segmentated images\n",
    "path = \"/home/scco0002/F&E_DeepLearning_VS/F-E-Project_Part_2/dataset/dataset_large_2023_5_9/segmentation_images\" # Passe den Pfad zum Ordner an\n",
    "\n",
    "expected_files = set(f\"picture_{i}.png\" for i in range(38379))\n",
    "actual_files = set(os.listdir(path))\n",
    "\n",
    "missing_files = sorted(list(expected_files - actual_files))\n",
    "num_missing_files = len(missing_files)\n",
    "\n",
    "print(f\"Anzahl fehlender Dateien: {num_missing_files}\")\n",
    "\n",
    "\n",
    "print(f\"Fehlende Dateien: {', '.join(missing_files)}\")"
   ]
  },
  {
   "attachments": {},
   "cell_type": "markdown",
   "metadata": {},
   "source": [
    "Nicht Segmentierbare Bilder in anderem Ordner abspeichern:"
   ]
  },
  {
   "cell_type": "code",
   "execution_count": null,
   "metadata": {},
   "outputs": [],
   "source": [
    "import os\n",
    "import shutil\n",
    "\n",
    "source_path_all = \"/home/scco0002/F&E_DeepLearning_VS/F-E-Project_Part_2/dataset/dataset_large_2023_5_9/train\" # Passe den Pfad zum ersten Ordner an\n",
    "source_path_missing = \"/home/scco0002/F&E_DeepLearning_VS/F-E-Project_Part_2/dataset/dataset_large_2023_5_9/segmentation_images\" # Passe den Pfad zum zweiten Ordner an\n",
    "dest_path = \"/home/scco0002/F&E_DeepLearning_VS/F-E-Project_Part_2/dataset/dataset_large_2023_5_9/Buged_images\" # Passe den Pfad zum dritten Ordner an\n",
    "\n",
    "expected_files = set(f\"picture_{i}.png\" for i in range(38379))\n",
    "actual_files_all = set(os.listdir(source_path_all))\n",
    "actual_files_missing = set(os.listdir(source_path_missing))\n",
    "\n",
    "missing_files = sorted(list(expected_files - actual_files_missing))\n",
    "\n",
    "num_missing_files = len(missing_files)\n",
    "\n",
    "print(f\"Anzahl fehlender Bilder: {num_missing_files}\")\n",
    "print(f\"Fehlende Bilder: {', '.join(missing_files)}\")\n",
    "\n",
    "# Erstelle den Zielordner, falls er noch nicht existiert\n",
    "if not os.path.exists(dest_path):\n",
    "    os.makedirs(dest_path)\n",
    "\n",
    "# Kopiere die fehlenden Bilder in den Zielordner\n",
    "for file_name in missing_files:\n",
    "    src_file_path = os.path.join(source_path_all, file_name)\n",
    "    dest_file_path = os.path.join(dest_path, file_name)\n",
    "    shutil.copy(src_file_path, dest_file_path)\n",
    "    print(f\"{src_file_path} wurde nach {dest_file_path} kopiert.\")\n"
   ]
  },
  {
   "attachments": {},
   "cell_type": "markdown",
   "metadata": {},
   "source": [
    "Alle nicht segmentierbaren Bilder aus train löschen"
   ]
  },
  {
   "cell_type": "code",
   "execution_count": null,
   "metadata": {},
   "outputs": [],
   "source": [
    "import os\n",
    "\n",
    "source_path_all = '/home/scco0002/F&E_DeepLearning_VS/F-E-Project_Part_2/dataset/dataset_large_2023_5_9/train'\n",
    "source_path_missing = '/home/scco0002/F&E_DeepLearning_VS/F-E-Project_Part_2/dataset/dataset_large_2023_5_9/segmentation_images'\n",
    "\n",
    "# Liste der Dateinamen im Ordner source_path_missing\n",
    "missing_files = os.listdir(source_path_missing)\n",
    "\n",
    "# Zähler für gelöschte Bilder\n",
    "deleted_files_count = 0\n",
    "\n",
    "# Durchsuche alle Dateien im Ordner source_path_all\n",
    "for file_name in os.listdir(source_path_all):\n",
    "    # Wenn die Datei im Ordner source_path_missing fehlt, lösche sie\n",
    "    if file_name not in missing_files:\n",
    "        os.remove(os.path.join(source_path_all, file_name))\n",
    "        deleted_files_count += 1\n",
    "\n",
    "print(f'{deleted_files_count} Bilder wurden gelöscht.')\n"
   ]
  }
 ],
 "metadata": {
  "kernelspec": {
   "display_name": "Python 3",
   "language": "python",
   "name": "python3"
  },
  "language_info": {
   "codemirror_mode": {
    "name": "ipython",
    "version": 3
   },
   "file_extension": ".py",
   "mimetype": "text/x-python",
   "name": "python",
   "nbconvert_exporter": "python",
   "pygments_lexer": "ipython3",
   "version": "3.8.10"
  }
 },
 "nbformat": 4,
 "nbformat_minor": 2
}

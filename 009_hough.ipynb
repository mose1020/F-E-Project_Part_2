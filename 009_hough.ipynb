{
 "cells": [
  {
   "cell_type": "code",
   "execution_count": null,
   "metadata": {},
   "outputs": [],
   "source": [
    "import cv2\n",
    "import numpy as np"
   ]
  },
  {
   "cell_type": "code",
   "execution_count": null,
   "metadata": {},
   "outputs": [],
   "source": [
    "def get_keypoints_hough(image):\n",
    "\n",
    "    gray_image = cv2.cvtColor(image, cv2.COLOR_BGR2GRAY)\n",
    "    # Apply a blur to reduce noise\n",
    "    blurred_image = cv2.GaussianBlur(gray_image, (5, 5), 0)\n",
    "    # Apply the Hough Circle Transform\n",
    "    circles = cv2.HoughCircles(blurred_image, cv2.HOUGH_GRADIENT, dp=1, minDist=50,\n",
    "\n",
    "                            param1=200, param2=30, minRadius=10, maxRadius=100)\n",
    "    # Ensure at least one circle was found\n",
    "\n",
    "    keypoints = []\n",
    "\n",
    "    if circles is not None:\n",
    "    # Convert the circle parameters to integers\n",
    "        circles = np.round(circles[0, :]).astype(int)\n",
    "    # Draw the detected circles on the original image\n",
    "        for (x, y, r) in circles:\n",
    "            cv2.circle(image, (x, y), r, (0, 255, 0), 2)\n",
    "            keypoints.append([x,y])\n",
    "    else:\n",
    "        print(\"No circles found.\")\n",
    "    \n",
    "    return keypoints"
   ]
  },
  {
   "cell_type": "code",
   "execution_count": null,
   "metadata": {},
   "outputs": [],
   "source": [
    "image_goal= cv2.imread('testblob2.png')\n",
    "keypoints_goal = get_keypoints_hough(image_goal)\n",
    "print (keypoints_goal)"
   ]
  },
  {
   "cell_type": "code",
   "execution_count": null,
   "metadata": {},
   "outputs": [],
   "source": [
    "def get_keypoints_hough_new(image, attempts=0, max_attempts=10):\n",
    "    gray_image = cv2.cvtColor(image, cv2.COLOR_BGR2GRAY)\n",
    "    blurred_image = cv2.GaussianBlur(gray_image, (5, 5), 0)\n",
    "    circles = cv2.HoughCircles(blurred_image, cv2.HOUGH_GRADIENT, dp=1, minDist=50,\n",
    "                                param1=200, param2=30, minRadius=10, maxRadius=100)\n",
    "    \n",
    "    keypoints = []\n",
    "    if circles is not None:\n",
    "        circles = np.round(circles[0, :]).astype(int)\n",
    "        for (x, y, r) in circles:\n",
    "            cv2.circle(image, (x, y), r, (0, 255, 0), 2)\n",
    "            keypoints.append([x,y])\n",
    "    else:\n",
    "        print(\"No circles found.\")\n",
    "    \n",
    "    # If not enough keypoints are found and the maximum number of attempts is not reached\n",
    "    if len(keypoints) < 8 and attempts < max_attempts:\n",
    "        print(f\"Not enough keypoints found. Attempt {attempts + 1} of {max_attempts}\")\n",
    "        return get_keypoints_hough_new(image, attempts=attempts+1)\n",
    "    elif attempts == max_attempts:\n",
    "        print(f\"Maximum number of attempts reached. Found {len(keypoints)} keypoints.\")\n",
    "    \n",
    "    return keypoints\n"
   ]
  },
  {
   "cell_type": "code",
   "execution_count": null,
   "metadata": {},
   "outputs": [],
   "source": [
    "image_goal= cv2.imread('testblob2.png')\n",
    "keypoints_goal = get_keypoints_hough_new(image_goal)\n",
    "print (keypoints_goal)"
   ]
  },
  {
   "cell_type": "code",
   "execution_count": null,
   "metadata": {},
   "outputs": [],
   "source": [
    "def get_keypoints_hough(image, attempts=0, max_attempts=1):\n",
    "    gray_image = cv2.cvtColor(image, cv2.COLOR_BGR2GRAY)\n",
    "    \n",
    "    # Adaptive Threshold the grayscale image to get a binary image\n",
    "    binary_image = cv2.adaptiveThreshold(gray_image, 255, cv2.ADAPTIVE_THRESH_GAUSSIAN_C,\n",
    "                                         cv2.THRESH_BINARY, 11, 2)\n",
    "    \n",
    "    circles = cv2.HoughCircles(binary_image, cv2.HOUGH_GRADIENT, dp=1, minDist=50,\n",
    "                                param1=200, param2=30, minRadius=5, maxRadius=200)\n",
    "    \n",
    "    keypoints = []\n",
    "    if circles is not None:\n",
    "        circles = np.round(circles[0, :]).astype(int)\n",
    "        for (x, y, r) in circles:\n",
    "            cv2.circle(image, (x, y), r, (0, 255, 0), 2)\n",
    "            keypoints.append([x, y])\n",
    "    else:\n",
    "        print(\"No circles found.\")\n",
    "    \n",
    "    # If not enough keypoints are found and the maximum number of attempts is not reached\n",
    "    if len(keypoints) < 8 and attempts < max_attempts:\n",
    "        print(f\"Not enough keypoints found. Attempt {attempts + 1} of {max_attempts}\")\n",
    "        return get_keypoints_hough(image, attempts=attempts+1)\n",
    "    elif attempts == max_attempts:\n",
    "        print(f\"Maximum number of attempts reached. Found {len(keypoints)} keypoints.\")\n",
    "    \n",
    "\n",
    "    return keypoints\n",
    "    "
   ]
  },
  {
   "cell_type": "code",
   "execution_count": null,
   "metadata": {},
   "outputs": [],
   "source": [
    "image_goal= cv2.imread('testblob2.png')\n",
    "keypoints_goal = get_keypoints_hough(image_goal)\n",
    "print (keypoints_goal)"
   ]
  },
  {
   "cell_type": "code",
   "execution_count": null,
   "metadata": {},
   "outputs": [],
   "source": [
    "def get_keypoints_hough(image, attempts=0, max_attempts=10):\n",
    "    gray_image = cv2.cvtColor(image, cv2.COLOR_BGR2GRAY)\n",
    "    \n",
    "    # Threshold the grayscale image to get a binary image\n",
    "    _, binary_image = cv2.threshold(gray_image, 255, cv2.THRESH_BINARY)\n",
    "    \n",
    "    circles = cv2.HoughCircles(binary_image, cv2.HOUGH_GRADIENT, dp=1, minDist=50,\n",
    "                                param1=100, param2=600, minRadius=50, maxRadius=250)\n",
    "    \n",
    "    keypoints = []\n",
    "    if circles is not None:\n",
    "        circles = np.round(circles[0, :]).astype(int)\n",
    "        for (x, y, r) in circles:\n",
    "            cv2.circle(image, (x, y), r, (0, 255, 0), 2)\n",
    "            keypoints.append([x, y])\n",
    "    else:\n",
    "        print(\"No circles found.\")\n",
    "    \n",
    "    # If not enough keypoints are found and the maximum number of attempts is not reached\n",
    "    if len(keypoints) < 8 and attempts < max_attempts:\n",
    "        print(f\"Not enough keypoints found. Attempt {attempts + 1} of {max_attempts}\")\n",
    "        return get_keypoints_hough(image, attempts=attempts+1)\n",
    "    elif attempts == max_attempts:\n",
    "        print(f\"Maximum number of attempts reached. Found {len(keypoints)} keypoints.\")\n",
    "    \n",
    "    return keypoints"
   ]
  },
  {
   "cell_type": "code",
   "execution_count": null,
   "metadata": {},
   "outputs": [],
   "source": [
    "image_goal= cv2.imread('testblob2.png')\n",
    "keypoints_goal = get_keypoints_hough(image_goal)\n",
    "print (keypoints_goal)"
   ]
  },
  {
   "cell_type": "code",
   "execution_count": null,
   "metadata": {},
   "outputs": [],
   "source": [
    "def get_keypoints_hough(image, attempts=0, max_attempts=50):\n",
    "    gray_image = cv2.cvtColor(image, cv2.COLOR_BGR2GRAY)\n",
    "    blurred_image = cv2.GaussianBlur(gray_image, (5, 5), 0)\n",
    "    circles = cv2.HoughCircles(blurred_image, cv2.HOUGH_GRADIENT, dp=1, minDist=25,\n",
    "                                param1=30, param2=30, minRadius=20, maxRadius=150)\n",
    "    # param 2 min 30\n",
    "    \n",
    "    keypoints = []\n",
    "    if circles is not None:\n",
    "        circles = np.round(circles[0, :]).astype(int)\n",
    "        for (x, y, r) in circles:\n",
    "            cv2.circle(image, (x, y), r, (0, 255, 0), 2)\n",
    "            keypoints.append([x,y])\n",
    "    else:\n",
    "        print(\"No circles found.\")\n",
    "    \n",
    "    # If not enough keypoints are found and the maximum number of attempts is not reached\n",
    "    if len(keypoints) < 6 and attempts < max_attempts:\n",
    "        print(f\"Not enough keypoints found. Attempt {attempts + 1} of {max_attempts}\")\n",
    "        return get_keypoints_hough(image, attempts=attempts+1)\n",
    "    elif attempts == max_attempts:\n",
    "        print(f\"Maximum number of attempts reached. Found {len(keypoints)} keypoints.\")\n",
    "    \n",
    "    \n",
    "    return keypoints\n"
   ]
  },
  {
   "cell_type": "code",
   "execution_count": null,
   "metadata": {},
   "outputs": [],
   "source": [
    "image_goal= cv2.imread('Kreise_fulled.png')\n",
    "keypoints_goal = get_keypoints_hough(image_goal)\n",
    "print (keypoints_goal)"
   ]
  },
  {
   "cell_type": "code",
   "execution_count": null,
   "metadata": {},
   "outputs": [],
   "source": [
    "def sort_keypoints_old(keypoints):\n",
    "    return sorted(keypoints, key=lambda k: (k[0], k[1]))\n",
    "\n",
    "def sort_keypoints(keypoints):\n",
    "    return sorted(keypoints, key=lambda k: (k[2]**2)*np.pi, reverse=True) \n",
    "    # Sortiert nach der Fläche des Kreises in absteigender Reihenfolge\n",
    "\n",
    "def remove_radius(keypoints_sorted):\n",
    "    return [k[:2] for k in keypoints_sorted]\n",
    "\n",
    "\n",
    "def get_keypoints_hough(image, attempts=0, max_attempts=50):\n",
    "    gray_image = cv2.cvtColor(image, cv2.COLOR_BGR2GRAY)\n",
    "    blurred_image = cv2.GaussianBlur(gray_image, (5, 5), 0)\n",
    "    circles = cv2.HoughCircles(blurred_image, cv2.HOUGH_GRADIENT, dp=1, minDist=50,\n",
    "                                param1=30, param2=30, minRadius=20, maxRadius=150)\n",
    "    # param 2 min 30\n",
    "    \n",
    "    keypoints = []\n",
    "    if circles is not None:\n",
    "        circles = np.round(circles[0, :]).astype(int)\n",
    "        for (x, y, r) in circles:\n",
    "            cv2.circle(image, (x, y), r, (0, 255, 0), 2)\n",
    "            keypoints.append([x,y,r])\n",
    "    else:\n",
    "        print(\"No circles found.\")\n",
    "    \n",
    "    # If not enough keypoints are found and the maximum number of attempts is not reached\n",
    "    if len(keypoints) < 6 and attempts < max_attempts:\n",
    "        print(f\"Not enough keypoints found. Attempt {attempts + 1} of {max_attempts}\")\n",
    "        return get_keypoints_hough(image, attempts=attempts+1)\n",
    "    elif attempts == max_attempts:\n",
    "        print(f\"Maximum number of attempts reached. Found {len(keypoints)} keypoints.\")\n",
    "    \n",
    "    # Sort the keypoints\n",
    "    keypoints_sorted = sort_keypoints(keypoints)\n",
    "    keypoints_without_radius = remove_radius(keypoints_sorted)\n",
    "    print(\"keypoints_sorted: \",keypoints_sorted)\n",
    "    print(\"keypoints_without_radius: \",keypoints_without_radius)\n",
    "    return keypoints_without_radius"
   ]
  },
  {
   "cell_type": "code",
   "execution_count": null,
   "metadata": {},
   "outputs": [],
   "source": [
    "image_goal= cv2.imread('Kreise_fulled.png')\n",
    "keypoints_goal = get_keypoints_hough(image_goal)\n",
    "print (keypoints_goal)"
   ]
  }
 ],
 "metadata": {
  "kernelspec": {
   "display_name": "deepl_env",
   "language": "python",
   "name": "python3"
  },
  "language_info": {
   "codemirror_mode": {
    "name": "ipython",
    "version": 3
   },
   "file_extension": ".py",
   "mimetype": "text/x-python",
   "name": "python",
   "nbconvert_exporter": "python",
   "pygments_lexer": "ipython3",
   "version": "3.8.10"
  }
 },
 "nbformat": 4,
 "nbformat_minor": 2
}
